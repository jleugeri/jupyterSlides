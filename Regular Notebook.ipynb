{
 "cells": [
  {
   "cell_type": "markdown",
   "metadata": {
    "deletable": true,
    "editable": true,
    "slideshow": {
     "slide_type": "slide"
    }
   },
   "source": [
    "# A presentation about presentations\n",
    "\n",
    "<span>Lab Meeting 8.6.2017 @ IKW Osnabrueck, Johannes Leugering</span>"
   ]
  },
  {
   "cell_type": "code",
   "execution_count": 1,
   "metadata": {
    "collapsed": false,
    "deletable": true,
    "editable": true,
    "slideshow": {
     "slide_type": "-"
    }
   },
   "outputs": [
    {
     "data": {
      "text/html": [
       "<script>\n",
       "var code_show=false;\n",
       "function code_toggle() {\n",
       " if (code_show){\n",
       " $('div.input').hide();\n",
       " } else {\n",
       " $('div.input').show();\n",
       " }\n",
       " code_show = !code_show;\n",
       "};\n",
       "\n",
       "$(document).ready(code_toggle());\n",
       "\n",
       "</script>\n",
       "<a href=\"javascript:code_toggle()\" style=\"float: right\">Toggle Input Cells</a>"
      ],
      "text/plain": [
       "<IPython.core.display.HTML object>"
      ]
     },
     "metadata": {},
     "output_type": "display_data"
    }
   ],
   "source": [
    "%%html\n",
    "<script>\n",
    "var code_show=false;\n",
    "function code_toggle() {\n",
    " if (code_show){\n",
    " $('div.input').hide();\n",
    " } else {\n",
    " $('div.input').show();\n",
    " }\n",
    " code_show = !code_show;\n",
    "};\n",
    "\n",
    "$(document).ready(code_toggle());\n",
    "\n",
    "</script>\n",
    "<a href=\"javascript:code_toggle()\" style=\"float: right\">Toggle Input Cells</a>"
   ]
  },
  {
   "cell_type": "markdown",
   "metadata": {
    "deletable": true,
    "editable": true,
    "slideshow": {
     "slide_type": "slide"
    }
   },
   "source": [
    "## Capabilities of jupyter notebooks\n",
    "\n",
    "* document code with MarkDown text, MathJax etc.\n",
    "* run code\n",
    "    * supports many languages, but most importantly python\n",
    "* present results\n",
    "    * depending on the type of result, it can be visualized nicely\n",
    "    * output such as matplotlib figures are included as well\n",
    "    * for custom data types, custom display methods can be defined (see e.g. `pandas.DataFrame` next slide)"
   ]
  },
  {
   "cell_type": "markdown",
   "metadata": {
    "deletable": true,
    "editable": true,
    "slideshow": {
     "slide_type": "subslide"
    }
   },
   "source": [
    "### Example: Loading and displaying a dataset\n",
    "#### How a pandas.DataFrame object is presented"
   ]
  },
  {
   "cell_type": "code",
   "execution_count": 2,
   "metadata": {
    "collapsed": false,
    "deletable": true,
    "editable": true,
    "slideshow": {
     "slide_type": "-"
    }
   },
   "outputs": [
    {
     "data": {
      "text/html": [
       "<div>\n",
       "<table border=\"1\" class=\"dataframe\">\n",
       "  <thead>\n",
       "    <tr style=\"text-align: right;\">\n",
       "      <th></th>\n",
       "      <th>sepal length (cm)</th>\n",
       "      <th>sepal width (cm)</th>\n",
       "      <th>petal length (cm)</th>\n",
       "      <th>petal width (cm)</th>\n",
       "      <th>class id</th>\n",
       "      <th>class name</th>\n",
       "    </tr>\n",
       "  </thead>\n",
       "  <tbody>\n",
       "    <tr>\n",
       "      <th>0</th>\n",
       "      <td>5.1</td>\n",
       "      <td>3.5</td>\n",
       "      <td>1.4</td>\n",
       "      <td>0.2</td>\n",
       "      <td>0</td>\n",
       "      <td>setosa</td>\n",
       "    </tr>\n",
       "    <tr>\n",
       "      <th>1</th>\n",
       "      <td>4.9</td>\n",
       "      <td>3.0</td>\n",
       "      <td>1.4</td>\n",
       "      <td>0.2</td>\n",
       "      <td>0</td>\n",
       "      <td>setosa</td>\n",
       "    </tr>\n",
       "    <tr>\n",
       "      <th>2</th>\n",
       "      <td>4.7</td>\n",
       "      <td>3.2</td>\n",
       "      <td>1.3</td>\n",
       "      <td>0.2</td>\n",
       "      <td>0</td>\n",
       "      <td>setosa</td>\n",
       "    </tr>\n",
       "    <tr>\n",
       "      <th>3</th>\n",
       "      <td>4.6</td>\n",
       "      <td>3.1</td>\n",
       "      <td>1.5</td>\n",
       "      <td>0.2</td>\n",
       "      <td>0</td>\n",
       "      <td>setosa</td>\n",
       "    </tr>\n",
       "    <tr>\n",
       "      <th>4</th>\n",
       "      <td>5.0</td>\n",
       "      <td>3.6</td>\n",
       "      <td>1.4</td>\n",
       "      <td>0.2</td>\n",
       "      <td>0</td>\n",
       "      <td>setosa</td>\n",
       "    </tr>\n",
       "    <tr>\n",
       "      <th>5</th>\n",
       "      <td>5.4</td>\n",
       "      <td>3.9</td>\n",
       "      <td>1.7</td>\n",
       "      <td>0.4</td>\n",
       "      <td>0</td>\n",
       "      <td>setosa</td>\n",
       "    </tr>\n",
       "    <tr>\n",
       "      <th>6</th>\n",
       "      <td>4.6</td>\n",
       "      <td>3.4</td>\n",
       "      <td>1.4</td>\n",
       "      <td>0.3</td>\n",
       "      <td>0</td>\n",
       "      <td>setosa</td>\n",
       "    </tr>\n",
       "    <tr>\n",
       "      <th>7</th>\n",
       "      <td>5.0</td>\n",
       "      <td>3.4</td>\n",
       "      <td>1.5</td>\n",
       "      <td>0.2</td>\n",
       "      <td>0</td>\n",
       "      <td>setosa</td>\n",
       "    </tr>\n",
       "    <tr>\n",
       "      <th>8</th>\n",
       "      <td>4.4</td>\n",
       "      <td>2.9</td>\n",
       "      <td>1.4</td>\n",
       "      <td>0.2</td>\n",
       "      <td>0</td>\n",
       "      <td>setosa</td>\n",
       "    </tr>\n",
       "    <tr>\n",
       "      <th>9</th>\n",
       "      <td>4.9</td>\n",
       "      <td>3.1</td>\n",
       "      <td>1.5</td>\n",
       "      <td>0.1</td>\n",
       "      <td>0</td>\n",
       "      <td>setosa</td>\n",
       "    </tr>\n",
       "  </tbody>\n",
       "</table>\n",
       "</div>"
      ],
      "text/plain": [
       "   sepal length (cm)  sepal width (cm)  petal length (cm)  petal width (cm)  \\\n",
       "0                5.1               3.5                1.4               0.2   \n",
       "1                4.9               3.0                1.4               0.2   \n",
       "2                4.7               3.2                1.3               0.2   \n",
       "3                4.6               3.1                1.5               0.2   \n",
       "4                5.0               3.6                1.4               0.2   \n",
       "5                5.4               3.9                1.7               0.4   \n",
       "6                4.6               3.4                1.4               0.3   \n",
       "7                5.0               3.4                1.5               0.2   \n",
       "8                4.4               2.9                1.4               0.2   \n",
       "9                4.9               3.1                1.5               0.1   \n",
       "\n",
       "   class id class name  \n",
       "0         0     setosa  \n",
       "1         0     setosa  \n",
       "2         0     setosa  \n",
       "3         0     setosa  \n",
       "4         0     setosa  \n",
       "5         0     setosa  \n",
       "6         0     setosa  \n",
       "7         0     setosa  \n",
       "8         0     setosa  \n",
       "9         0     setosa  "
      ]
     },
     "execution_count": 2,
     "metadata": {},
     "output_type": "execute_result"
    }
   ],
   "source": [
    "from sklearn.datasets import load_iris\n",
    "import pandas\n",
    "import numpy as np\n",
    "import matplotlib\n",
    "%matplotlib inline\n",
    "matplotlib.style.use(\"ggplot\")\n",
    "from matplotlib import pyplot as pp, style, patheffects\n",
    "\n",
    "iris = load_iris()\n",
    "iris_data = pandas.DataFrame(data=iris.data, columns=iris.feature_names)\n",
    "iris_data[\"class id\"] = iris.target\n",
    "iris_data[\"class name\"] = iris.target_names[iris.target]\n",
    "iris_data.head(10)"
   ]
  },
  {
   "cell_type": "markdown",
   "metadata": {
    "deletable": true,
    "editable": true,
    "slideshow": {
     "slide_type": "subslide"
    }
   },
   "source": [
    "#### Figures can be rendered inline:"
   ]
  },
  {
   "cell_type": "code",
   "execution_count": 3,
   "metadata": {
    "collapsed": false,
    "deletable": true,
    "editable": true,
    "slideshow": {
     "slide_type": "-"
    }
   },
   "outputs": [
    {
     "data": {
      "image/png": "[encoded data removed]",
      "text/plain": [
       "<matplotlib.figure.Figure at 0x7f1bd9b34550>"
      ]
     },
     "metadata": {},
     "output_type": "display_data"
    }
   ],
   "source": [
    "data = iris_data[[\"sepal length (cm)\", \"sepal width (cm)\", \"class name\"]].copy()\n",
    "data.columns = [\"x\", \"y\", \"class\"]\n",
    "\n",
    "def plot_data(ax, data):\n",
    "    all_pts = []\n",
    "    for label in data[\"class\"]:\n",
    "        subset = data.where(lambda x: x[\"class\"] == label)\n",
    "        pts, = ax.plot(subset[\"x\"], subset[\"y\"], \"o\", markersize=10)\n",
    "        all_pts.append(pts)\n",
    "    return all_pts\n",
    "    \n",
    "fig = pp.figure(figsize=(10, 10))\n",
    "ax = fig.add_subplot(111)\n",
    "pts = plot_data(ax, data)\n",
    "ax.set_xlabel(\"sepal length (cm)\")\n",
    "ax.set_ylabel(\"sepal width (cm)\")\n",
    "ax.set_title(\"The Iris dataset\")\n",
    "colors = [p.get_color() for p in pts]\n",
    "colors = dict(zip(iris.target_names, colors))\n",
    "ax.legend(pts, iris.target_names);"
   ]
  },
  {
   "cell_type": "code",
   "execution_count": 4,
   "metadata": {
    "collapsed": false,
    "deletable": true,
    "editable": true,
    "slideshow": {
     "slide_type": "-"
    }
   },
   "outputs": [
    {
     "data": {
      "text/html": [
       "<script>\n",
       "var code_show=true;\n",
       "function code_toggle() {\n",
       " if (code_show){\n",
       " $('div.input').hide();\n",
       " } else {\n",
       " $('div.input').show();\n",
       " }\n",
       " code_show = !code_show\n",
       "}\n",
       "</script>\n",
       "<a href=\"javascript:code_toggle()\">Toggle Input Cells</a>"
      ],
      "text/plain": [
       "<IPython.core.display.HTML object>"
      ]
     },
     "metadata": {},
     "output_type": "display_data"
    }
   ],
   "source": [
    "%%html\n",
    "<script>\n",
    "var code_show=true;\n",
    "function code_toggle() {\n",
    " if (code_show){\n",
    " $('div.input').hide();\n",
    " } else {\n",
    " $('div.input').show();\n",
    " }\n",
    " code_show = !code_show\n",
    "}\n",
    "</script>\n",
    "<a href=\"javascript:code_toggle()\">Toggle Input Cells</a>"
   ]
  },
  {
   "cell_type": "markdown",
   "metadata": {
    "deletable": true,
    "editable": true,
    "slideshow": {
     "slide_type": "slide"
    }
   },
   "source": [
    "## \"Inline\" capabilities of Jupyter's MarkDown text"
   ]
  },
  {
   "cell_type": "markdown",
   "metadata": {
    "deletable": true,
    "editable": true,
    "slideshow": {
     "slide_type": "subslide"
    }
   },
   "source": [
    "### Supports lists\n",
    "\n",
    "* lists can be unordered\n",
    "    * like this example\n",
    "    * with a sublist\n",
    "* lists can also be ordered\n",
    "    1. like this list\n",
    "        1. with this sub-example\n",
    "        2. and this one"
   ]
  },
  {
   "cell_type": "markdown",
   "metadata": {
    "deletable": true,
    "editable": true,
    "slideshow": {
     "slide_type": "subslide"
    }
   },
   "source": [
    "### Supports basic text formatting\n",
    "\n",
    "You can write *cursive* and **bold** text, embed `monospace text`.  \n",
    "Use double spaces at the end of a line to force a break, an empty line starts a new paragraph.\n",
    "\n",
    "\n",
    "\n",
    "\n",
    "\n",
    "\n",
    "\n",
    "\n",
    "\n",
    "\n",
    "\n",
    "\n",
    "\n",
    "\n",
    "\n",
    "\n",
    "\n",
    "You can embed block-quotes as in email:\n",
    "\n",
    "> A SQL query goes into a bar, walks up to two tables and asks, \"Can I join you?\"\n",
    "\n",
    "\n",
    "### Supports embedding/linking other content\n",
    "embed links to other things ([e.g. the documentation of all the features](https://sourceforge.net/p/jupiter/wiki/markdown_syntax/)) or images in the local directory ![with alternative text: thumbs up!](like.png)"
   ]
  },
  {
   "cell_type": "markdown",
   "metadata": {
    "deletable": true,
    "editable": true,
    "slideshow": {
     "slide_type": "subslide"
    }
   },
   "source": [
    "### Supports embedding code blocks with syntax highlighting (most languages):\n",
    "\n",
    "#### Example algorithm in *erlang*\n",
    "```erlang\n",
    "-module(fibonacci). % This is the file 'fibonacci.erl', the module and the filename must match\n",
    "-export([fib/1]). % This exports the function 'fib' of arity 1\n",
    "\n",
    "fib(0) -> 0; % If 0, then return 0, otherwise (note the semicolon ; meaning 'else')\n",
    "fib(1) -> 1; % If 1, then return 1, otherwise\n",
    "fib(N) when N > 1 -> fib(N - 1) + fib(N - 2).\n",
    "```"
   ]
  },
  {
   "cell_type": "markdown",
   "metadata": {
    "deletable": true,
    "editable": true,
    "slideshow": {
     "slide_type": "subslide"
    }
   },
   "source": [
    "### Supports (limited) inline html and css\n",
    "\n",
    "<div style=\"clear: both; position: relative; height: 200px;\">\n",
    "    <div id=\"somediv\" style=\"position: absolute; height: 100px; width: 100px; background-color: red; border-radius: 20px;margin: 20px; top: 0px; left: 0px; transform: rotate(10deg)\"></div>\n",
    "    <div id=\"somediv\" style=\"position: absolute; height: 100px; width: 100px; background-color: green; border-radius: 20px;margin: 20px; top: 50px; left: 25px; transform: rotate(20deg)\"></div>\n",
    "    <div id=\"somediv\" style=\"position: absolute; height: 100px; width: 100px; background-color: blue; border-radius: 20px;margin: 20px; top: 25px; left: 50px; text-align: center;  transform: rotate(30deg)\"><a style=\"color: white;\">Whatup!</a></div>\n",
    "</div>"
   ]
  },
  {
   "cell_type": "markdown",
   "metadata": {
    "deletable": true,
    "editable": true,
    "slideshow": {
     "slide_type": "subslide"
    }
   },
   "source": [
    "### Supports inline tables\n",
    "\n",
    "  First Header   | Second Header  | Third Header\n",
    "  -------------  | -------------  | ------------\n",
    "  *Content Cell* | Content Cell   | Content Cell\n",
    "  Content Cell   | Content Cell   | Content Cell\n"
   ]
  },
  {
   "cell_type": "markdown",
   "metadata": {
    "deletable": true,
    "editable": true,
    "slideshow": {
     "slide_type": "subslide"
    }
   },
   "source": [
    "### Supports some inline Latex (via MathJax)\n",
    "#### E.g. *align* formulas:\n",
    "\n",
    "\\begin{align}\n",
    "    d{I_t^{(j)}} &\\gets \\text{ external input or } Y_t^{(j)}\\\\\n",
    "    d{X_t^{(i)}} &= a_\\eta(X_t^{(i)})dt + b_\\eta(X_t^{(i)}) \\sum_{j} W_t^{(i,j)} d{I_{t-\\tau^{(i,j)}}^{(j)}} \\\\\n",
    "    d{\\bar\\phi_t^{(i)}} &= \\gamma  (\\eta(X_t^{(i)}) -\\bar\\phi_t^{(i)}) dt \\\\\n",
    "    Y_t^{(i)} &= \\nu_{\\bar\\phi_t^{(i)}}(X_t^{(i)}) = (F_Y^{-1} \\circ F_{X})(X_t^{(i)}, \\bar\\phi_t^{(i)})\\\\\n",
    "    d{W_t^{(i,j)}} &= \\delta (f_\\text{pre}(Y_{t-\\tau^{(i,j)}}^{(j)})\\cdot f_\\text{post}(Y_t^{(i)})-W_t^{(i,j)}) dt\n",
    "\\end{align}"
   ]
  },
  {
   "cell_type": "markdown",
   "metadata": {
    "deletable": true,
    "editable": true,
    "slideshow": {
     "slide_type": "slide"
    }
   },
   "source": [
    "## Further capabilities with cell magic"
   ]
  },
  {
   "cell_type": "markdown",
   "metadata": {
    "deletable": true,
    "editable": true,
    "slideshow": {
     "slide_type": "subslide"
    }
   },
   "source": [
    "### Cell magic commands can redefine the language of a cell\n",
    "\n",
    "E.g. `%%html` turns the cell into a raw html cell. This input is not parsed through MarkDown and thus very flexible (can include `iframes`, `javascript`, ...).\n",
    "Similarly, `%%javascript` executes the cell as javascript code in the client browser."
   ]
  },
  {
   "cell_type": "markdown",
   "metadata": {
    "deletable": true,
    "editable": true,
    "slideshow": {
     "slide_type": "subslide"
    }
   },
   "source": [
    "### Example: embedding external content (e.g. youtube player) as iframe"
   ]
  },
  {
   "cell_type": "code",
   "execution_count": 5,
   "metadata": {
    "collapsed": false,
    "deletable": true,
    "editable": true,
    "slideshow": {
     "slide_type": "-"
    }
   },
   "outputs": [
    {
     "data": {
      "text/html": [
       "<iframe height=\"400\" width=\"600\" src=\"https://www.youtube.com/embed/ddA-QMaNxHA?list=LLEai0wtg_dBfaA-GV6olHtQ\" frameborder=\"0\" allowfullscreen></iframe>"
      ],
      "text/plain": [
       "<IPython.core.display.HTML object>"
      ]
     },
     "metadata": {},
     "output_type": "display_data"
    }
   ],
   "source": [
    "%%html\n",
    "<iframe height=\"400\" width=\"600\" src=\"https://www.youtube.com/embed/ddA-QMaNxHA?list=LLEai0wtg_dBfaA-GV6olHtQ\" frameborder=\"0\" allowfullscreen></iframe>"
   ]
  },
  {
   "cell_type": "markdown",
   "metadata": {
    "deletable": true,
    "editable": true,
    "slideshow": {
     "slide_type": "subslide"
    }
   },
   "source": [
    "### Example: javascript shenanigans in raw html"
   ]
  },
  {
   "cell_type": "code",
   "execution_count": 6,
   "metadata": {
    "collapsed": false,
    "deletable": true,
    "editable": true,
    "scrolled": true,
    "slideshow": {
     "slide_type": "-"
    }
   },
   "outputs": [
    {
     "data": {
      "text/html": [
       "<div onclick=\"alert('Oy, you clicked?')\" style=\"height:40px; widht: 40px; background-color: red;\"></div>"
      ],
      "text/plain": [
       "<IPython.core.display.HTML object>"
      ]
     },
     "metadata": {},
     "output_type": "display_data"
    }
   ],
   "source": [
    "%%html\n",
    "<div onclick=\"alert('Oy, you clicked?')\" style=\"height:40px; widht: 40px; background-color: red;\"></div>"
   ]
  },
  {
   "cell_type": "markdown",
   "metadata": {
    "deletable": true,
    "editable": true,
    "slideshow": {
     "slide_type": "subslide"
    }
   },
   "source": [
    "### Example: embedding d3.js"
   ]
  },
  {
   "cell_type": "code",
   "execution_count": 7,
   "metadata": {
    "collapsed": false,
    "deletable": true,
    "editable": true,
    "slideshow": {
     "slide_type": "-"
    }
   },
   "outputs": [
    {
     "data": {
      "application/javascript": [
       "\n",
       "requirejs.config({\n",
       "  paths: {\n",
       "      d3: 'https://d3js.org/d3.v4.min'\n",
       "  }\n",
       "});\n",
       "\n",
       "require([\"d3\"], function(d3){\n",
       "    var body = element.append(\"<div id='body'></div>\")\n",
       "\n",
       "    \n",
       "    var width = 960,\n",
       "        height = 500,\n",
       "        radius = 80,\n",
       "        x = Math.sin(2 * Math.PI / 3),\n",
       "        y = Math.cos(2 * Math.PI / 3),\n",
       "        offset = 0,\n",
       "        speed = 4,\n",
       "        start = Date.now();\n",
       "    \n",
       "    var svg = d3.select('#body').append('svg')\n",
       "        .attr('width', width)\n",
       "        .attr('height', height)\n",
       "        .append(\"g\")\n",
       "          .attr(\"transform\", \"translate(\" + width / 2 + \",\" + height / 2 + \")scale(.55)\")\n",
       "        .append(\"g\");\n",
       "    \n",
       "    var frame = svg.append(\"g\")\n",
       "        .datum({radius: Infinity});\n",
       "\n",
       "    frame.append(\"g\")\n",
       "        .attr(\"class\", \"annulus\")\n",
       "        .datum({teeth: 80, radius: -radius * 5, annulus: true})\n",
       "      .append(\"path\")\n",
       "        .attr(\"d\", gear);\n",
       "\n",
       "    frame.append(\"g\")\n",
       "        .attr(\"class\", \"sun\")\n",
       "        .datum({teeth: 16, radius: radius})\n",
       "      .append(\"path\")\n",
       "        .attr(\"d\", gear);\n",
       "\n",
       "    frame.append(\"g\")\n",
       "        .attr(\"class\", \"planet\")\n",
       "        .attr(\"transform\", \"translate(0,-\" + radius * 3 + \")\")\n",
       "        .datum({teeth: 32, radius: -radius * 2})\n",
       "      .append(\"path\")\n",
       "        .attr(\"d\", gear);\n",
       "\n",
       "    frame.append(\"g\")\n",
       "        .attr(\"class\", \"planet\")\n",
       "        .attr(\"transform\", \"translate(\" + -radius * 3 * x + \",\" + -radius * 3 * y + \")\")\n",
       "        .datum({teeth: 32, radius: -radius * 2})\n",
       "      .append(\"path\")\n",
       "        .attr(\"d\", gear);\n",
       "\n",
       "    frame.append(\"g\")\n",
       "        .attr(\"class\", \"planet\")\n",
       "        .attr(\"transform\", \"translate(\" + radius * 3 * x + \",\" + -radius * 3 * y + \")\")\n",
       "        .datum({teeth: 32, radius: -radius * 2})\n",
       "      .append(\"path\")\n",
       "        .attr(\"d\", gear);\n",
       "\n",
       "    d3.selectAll(\"input[name=reference]\")\n",
       "      .data([radius * 5, Infinity, -radius])\n",
       "        .on(\"change\", function(radius1) {\n",
       "          var radius0 = frame.datum().radius, angle = (Date.now() - start) * speed;\n",
       "          frame.datum({radius: radius1});\n",
       "          svg.attr(\"transform\", \"rotate(\" + (offset += angle / radius0 - angle / radius1) + \")\");\n",
       "        });\n",
       "\n",
       "    d3.selectAll(\"input[name=speed]\")\n",
       "        .on(\"change\", function() { speed = +this.value; });\n",
       "\n",
       "    function gear(d) {\n",
       "      var n = d.teeth,\n",
       "          r2 = Math.abs(d.radius),\n",
       "          r0 = r2 - 8,\n",
       "          r1 = r2 + 8,\n",
       "          r3 = d.annulus ? (r3 = r0, r0 = r1, r1 = r3, r2 + 20) : 20,\n",
       "          da = Math.PI / n,\n",
       "          a0 = -Math.PI / 2 + (d.annulus ? Math.PI / n : 0),\n",
       "          i = -1,\n",
       "          path = [\"M\", r0 * Math.cos(a0), \",\", r0 * Math.sin(a0)];\n",
       "      while (++i < n) path.push(\n",
       "          \"A\", r0, \",\", r0, \" 0 0,1 \", r0 * Math.cos(a0 += da), \",\", r0 * Math.sin(a0),\n",
       "          \"L\", r2 * Math.cos(a0), \",\", r2 * Math.sin(a0),\n",
       "          \"L\", r1 * Math.cos(a0 += da / 3), \",\", r1 * Math.sin(a0),\n",
       "          \"A\", r1, \",\", r1, \" 0 0,1 \", r1 * Math.cos(a0 += da / 3), \",\", r1 * Math.sin(a0),\n",
       "          \"L\", r2 * Math.cos(a0 += da / 3), \",\", r2 * Math.sin(a0),\n",
       "          \"L\", r0 * Math.cos(a0), \",\", r0 * Math.sin(a0));\n",
       "      path.push(\"M0,\", -r3, \"A\", r3, \",\", r3, \" 0 0,0 0,\", r3, \"A\", r3, \",\", r3, \" 0 0,0 0,\", -r3, \"Z\");\n",
       "      return path.join(\"\");\n",
       "    }\n",
       "\n",
       "    d3.timer(function() {\n",
       "      var angle = (Date.now() - start) * speed,\n",
       "          transform = function(d) { return \"rotate(\" + angle / d.radius + \")\"; };\n",
       "      frame.selectAll(\"path\").attr(\"transform\", transform);\n",
       "      frame.attr(\"transform\", transform); // frame of reference\n",
       "    });\n",
       "})\n"
      ],
      "text/plain": [
       "<IPython.core.display.Javascript object>"
      ]
     },
     "metadata": {},
     "output_type": "display_data"
    }
   ],
   "source": [
    "%%javascript\n",
    "\n",
    "requirejs.config({\n",
    "  paths: {\n",
    "      d3: 'https://d3js.org/d3.v4.min'\n",
    "  }\n",
    "});\n",
    "\n",
    "require([\"d3\"], function(d3){\n",
    "    var body = element.append(\"<div id='body'></div>\")\n",
    "\n",
    "    \n",
    "    var width = 960,\n",
    "        height = 500,\n",
    "        radius = 80,\n",
    "        x = Math.sin(2 * Math.PI / 3),\n",
    "        y = Math.cos(2 * Math.PI / 3),\n",
    "        offset = 0,\n",
    "        speed = 4,\n",
    "        start = Date.now();\n",
    "    \n",
    "    var svg = d3.select('#body').append('svg')\n",
    "        .attr('width', width)\n",
    "        .attr('height', height)\n",
    "        .append(\"g\")\n",
    "          .attr(\"transform\", \"translate(\" + width / 2 + \",\" + height / 2 + \")scale(.55)\")\n",
    "        .append(\"g\");\n",
    "    \n",
    "    var frame = svg.append(\"g\")\n",
    "        .datum({radius: Infinity});\n",
    "\n",
    "    frame.append(\"g\")\n",
    "        .attr(\"class\", \"annulus\")\n",
    "        .datum({teeth: 80, radius: -radius * 5, annulus: true})\n",
    "      .append(\"path\")\n",
    "        .attr(\"d\", gear);\n",
    "\n",
    "    frame.append(\"g\")\n",
    "        .attr(\"class\", \"sun\")\n",
    "        .datum({teeth: 16, radius: radius})\n",
    "      .append(\"path\")\n",
    "        .attr(\"d\", gear);\n",
    "\n",
    "    frame.append(\"g\")\n",
    "        .attr(\"class\", \"planet\")\n",
    "        .attr(\"transform\", \"translate(0,-\" + radius * 3 + \")\")\n",
    "        .datum({teeth: 32, radius: -radius * 2})\n",
    "      .append(\"path\")\n",
    "        .attr(\"d\", gear);\n",
    "\n",
    "    frame.append(\"g\")\n",
    "        .attr(\"class\", \"planet\")\n",
    "        .attr(\"transform\", \"translate(\" + -radius * 3 * x + \",\" + -radius * 3 * y + \")\")\n",
    "        .datum({teeth: 32, radius: -radius * 2})\n",
    "      .append(\"path\")\n",
    "        .attr(\"d\", gear);\n",
    "\n",
    "    frame.append(\"g\")\n",
    "        .attr(\"class\", \"planet\")\n",
    "        .attr(\"transform\", \"translate(\" + radius * 3 * x + \",\" + -radius * 3 * y + \")\")\n",
    "        .datum({teeth: 32, radius: -radius * 2})\n",
    "      .append(\"path\")\n",
    "        .attr(\"d\", gear);\n",
    "\n",
    "    d3.selectAll(\"input[name=reference]\")\n",
    "      .data([radius * 5, Infinity, -radius])\n",
    "        .on(\"change\", function(radius1) {\n",
    "          var radius0 = frame.datum().radius, angle = (Date.now() - start) * speed;\n",
    "          frame.datum({radius: radius1});\n",
    "          svg.attr(\"transform\", \"rotate(\" + (offset += angle / radius0 - angle / radius1) + \")\");\n",
    "        });\n",
    "\n",
    "    d3.selectAll(\"input[name=speed]\")\n",
    "        .on(\"change\", function() { speed = +this.value; });\n",
    "\n",
    "    function gear(d) {\n",
    "      var n = d.teeth,\n",
    "          r2 = Math.abs(d.radius),\n",
    "          r0 = r2 - 8,\n",
    "          r1 = r2 + 8,\n",
    "          r3 = d.annulus ? (r3 = r0, r0 = r1, r1 = r3, r2 + 20) : 20,\n",
    "          da = Math.PI / n,\n",
    "          a0 = -Math.PI / 2 + (d.annulus ? Math.PI / n : 0),\n",
    "          i = -1,\n",
    "          path = [\"M\", r0 * Math.cos(a0), \",\", r0 * Math.sin(a0)];\n",
    "      while (++i < n) path.push(\n",
    "          \"A\", r0, \",\", r0, \" 0 0,1 \", r0 * Math.cos(a0 += da), \",\", r0 * Math.sin(a0),\n",
    "          \"L\", r2 * Math.cos(a0), \",\", r2 * Math.sin(a0),\n",
    "          \"L\", r1 * Math.cos(a0 += da / 3), \",\", r1 * Math.sin(a0),\n",
    "          \"A\", r1, \",\", r1, \" 0 0,1 \", r1 * Math.cos(a0 += da / 3), \",\", r1 * Math.sin(a0),\n",
    "          \"L\", r2 * Math.cos(a0 += da / 3), \",\", r2 * Math.sin(a0),\n",
    "          \"L\", r0 * Math.cos(a0), \",\", r0 * Math.sin(a0));\n",
    "      path.push(\"M0,\", -r3, \"A\", r3, \",\", r3, \" 0 0,0 0,\", r3, \"A\", r3, \",\", r3, \" 0 0,0 0,\", -r3, \"Z\");\n",
    "      return path.join(\"\");\n",
    "    }\n",
    "\n",
    "    d3.timer(function() {\n",
    "      var angle = (Date.now() - start) * speed,\n",
    "          transform = function(d) { return \"rotate(\" + angle / d.radius + \")\"; };\n",
    "      frame.selectAll(\"path\").attr(\"transform\", transform);\n",
    "      frame.attr(\"transform\", transform); // frame of reference\n",
    "    });\n",
    "})\n",
    "\n"
   ]
  },
  {
   "cell_type": "code",
   "execution_count": 8,
   "metadata": {
    "collapsed": false,
    "deletable": true,
    "editable": true,
    "slideshow": {
     "slide_type": "-"
    }
   },
   "outputs": [
    {
     "data": {
      "text/html": [
       "<form>\n",
       "  <input name=\"reference\" id=\"ref-annulus\" type=\"radio\">\n",
       "  <label for=\"ref-annulus\">Annulus</label><br>\n",
       "  <input name=\"reference\" id=\"ref-planet\" checked=\"\" type=\"radio\">\n",
       "  <label for=\"ref-planet\">Planets</label><br>\n",
       "  <input name=\"reference\" id=\"ref-sun\" type=\"radio\">\n",
       "  <label for=\"ref-sun\">Sun</label>\n",
       "</form>"
      ],
      "text/plain": [
       "<IPython.core.display.HTML object>"
      ]
     },
     "metadata": {},
     "output_type": "display_data"
    }
   ],
   "source": [
    "%%html\n",
    "<form>\n",
    "  <input name=\"reference\" id=\"ref-annulus\" type=\"radio\">\n",
    "  <label for=\"ref-annulus\">Annulus</label><br>\n",
    "  <input name=\"reference\" id=\"ref-planet\" checked=\"\" type=\"radio\">\n",
    "  <label for=\"ref-planet\">Planets</label><br>\n",
    "  <input name=\"reference\" id=\"ref-sun\" type=\"radio\">\n",
    "  <label for=\"ref-sun\">Sun</label>\n",
    "</form>"
   ]
  },
  {
   "cell_type": "markdown",
   "metadata": {
    "deletable": true,
    "editable": true,
    "slideshow": {
     "slide_type": "skip"
    }
   },
   "source": [
    "## Using interactive widgets"
   ]
  },
  {
   "cell_type": "code",
   "execution_count": 9,
   "metadata": {
    "collapsed": false,
    "deletable": true,
    "editable": true,
    "slideshow": {
     "slide_type": "skip"
    }
   },
   "outputs": [
    {
     "name": "stderr",
     "output_type": "stream",
     "text": [
      "Widget Javascript not detected.  It may not be installed or enabled properly.\n"
     ]
    },
    {
     "data": {
      "application/vnd.jupyter.widget-view+json": {
       "model_id": "b8006f60813c4cd2a1ea184ea87fb410"
      }
     },
     "metadata": {},
     "output_type": "display_data"
    }
   ],
   "source": [
    "from ipywidgets import interact, fixed\n",
    "import IPython.display as display\n",
    "\n",
    "fig = pp.figure(figsize=(10,5))\n",
    "ax1 = fig.add_subplot(1,2,1)\n",
    "xx = np.linspace(0.001, 0.999, 1000)\n",
    "yy = -np.log2(xx)*xx-np.log2(1-xx)*(1-xx)\n",
    "line, = ax1.plot(xx, yy, linestyle=\"dashed\", linewidth=2)\n",
    "#line.set_visible(False)\n",
    "dot, = ax1.plot([0.5], [1.0], \"o\", markersize=10)\n",
    "ax1.set_ylim([0, 1.1])\n",
    "ax1.set_xlim([-0.1, 1.1])\n",
    "ax1.axvline(0.5, color=\"black\", linestyle=\"dashed\")\n",
    "ax1.axhline(1, color=\"black\", linestyle=\"dashed\")\n",
    "ax1.set_xlabel(\"p\")\n",
    "ax1.set_ylabel(\"$H_p(X)$\")\n",
    "ax1.set_title(\"Entropy of $X\\sim\\mathcal{B}(p)$\")\n",
    "\n",
    "ax2 = fig.add_subplot(1,2,2)\n",
    "ax2.set_title(\"PMF of $\\mathcal{B}(p)$\")\n",
    "pp.close(fig)\n",
    "\n",
    "def my_histogram(ax, hist):\n",
    "    labels, counts = zip(*hist.items())\n",
    "    x = np.arange(len(labels))\n",
    "    ax.bar(x, counts, zorder=1, align=\"center\")\n",
    "    ax.set_xticks(x)\n",
    "    ls = ax.set_xticklabels(labels, rotation=90, color=\"white\", ha=\"center\", va=\"bottom\", fontsize=15)\n",
    "    pp.setp(ls, path_effects=[patheffects.withStroke(linewidth=3, foreground=\"black\")])\n",
    "    ax.xaxis.set_tick_params(pad=-10)\n",
    "    ax.grid(False)\n",
    "    ax.set_axisbelow(False)\n",
    "\n",
    "def drawEntropy_bernoulli(p, plot_line=True, redraw=False):\n",
    "    dot.set_xdata([p])\n",
    "    dot.set_ydata([-p*np.log2(p)-(1-p)*np.log2(1-p)])\n",
    "    line.set_visible(plot_line)\n",
    "    ax2.cla()\n",
    "    my_histogram(ax2, {\"A\": p, \"B\": 1-p})\n",
    "    ax2.set_title(\"PMF of $\\mathcal{B}(p)$\")\n",
    "    ax2.set_ylim([0, 1])\n",
    "    if redraw:\n",
    "        display.display(fig)\n",
    "    else:\n",
    "        return dot, line\n",
    "\n",
    "interact(drawEntropy_bernoulli, p=(0.001, 0.999, 0.001), plot_line=False, redraw=fixed(True));"
   ]
  },
  {
   "cell_type": "markdown",
   "metadata": {
    "deletable": true,
    "editable": true,
    "slideshow": {
     "slide_type": "slide"
    }
   },
   "source": [
    "## Generating & displaying animations inline"
   ]
  },
  {
   "cell_type": "code",
   "execution_count": 10,
   "metadata": {
    "collapsed": false,
    "deletable": true,
    "editable": true,
    "slideshow": {
     "slide_type": "-"
    }
   },
   "outputs": [
    {
     "data": {
      "text/html": [
       "<video width=\"1000.0\" height=\"500.0\" controls autoplay loop>\n",
       "  <source type=\"video/mp4\" src=\"data:video/mp4;base64,AAAAHGZ0eXBNNFYgAAACAGlzb21pc28yYXZjMQAAAAhmcmVlAAB9IW1kYXQAAAKvBgX//6vcRem9\n",
       "5tlIt5Ys2CDZI+7veDI2NCAtIGNvcmUgMTQ4IHIyNjQzIDVjNjU3MDQgLSBILjI2NC9NUEVHLTQg\n",
       "QVZDIGNvZGVjIC0gQ29weWxlZnQgMjAwMy0yMDE1IC0gaHR0cDovL3d3dy52aWRlb2xhbi5vcmcv\n",
       "eDI2NC5odG1sIC0gb3B0aW9uczogY2FiYWM9MSByZWY9MyBkZWJsb2NrPTE6MDowIGFuYWx5c2U9\n",
       "MHgzOjB4MTEzIG1lPWhleCBzdWJtZT03IHBzeT0xIHBzeV9yZD0xLjAwOjAuMDAgbWl4ZWRfcmVm\n",
       "PTEgbWVfcmFuZ2U9MTYgY2hyb21hX21lPTEgdHJlbGxpcz0xIDh4OGRjdD0xIGNxbT0wIGRlYWR6\n",
       "b25lPTIxLDExIGZhc3RfcHNraXA9MSBjaHJvbWFfcXBfb2Zmc2V0PS0yIHRocmVhZHM9MTIgbG9v\n",
       "a2FoZWFkX3RocmVhZHM9MiBzbGljZWRfdGhyZWFkcz0wIG5yPTAgZGVjaW1hdGU9MSBpbnRlcmxh\n",
       "Y2VkPTAgYmx1cmF5X2NvbXBhdD0wIGNvbnN0cmFpbmVkX2ludHJhPTAgYmZyYW1lcz0zIGJfcHly\n",
       "YW1pZD0yIGJfYWRhcHQ9MSBiX2JpYXM9MCBkaXJlY3Q9MSB3ZWlnaHRiPTEgb3Blbl9nb3A9MCB3\n",
       "ZWlnaHRwPTIga2V5aW50PTI1MCBrZXlpbnRfbWluPTI1IHNjZW5lY3V0PTQwIGludHJhX3JlZnJl\n",
       "c2g9MCByY19sb29rYWhlYWQ9NDAgcmM9Y3JmIG1idHJlZT0xIGNyZj0yMy4wIHFjb21wPTAuNjAg\n",
       "cXBtaW49MCBxcG1heD02OSBxcHN0ZXA9NCBpcF9yYXRpbz0xLjQwIGFxPTE6MS4wMACAAAAr82WI\n",
       "hAAr//72c3wKa0czlS4Fdvdmo+XQkuX7EGD60AAAAwAAAwAAAwAAIuYDVjBbLHl1p4JnQRgAoMEH\n",
       "rocgdQ7ha5JL2P8tATJhhYAIlHvSBAscR8fRZgqniL+AJG1Wu2BzSRZkzBnFVaYEkK7WN3PavB3T\n",
       "VbfBl5sqzTbyWln4qsG6wTxnRFjI1ElD19nd/qLFIFaV+lP8J52RypuoChz+Ya5Jfy9e+LDJqDC1\n",
       "VeuLi0ixuBmC18gZ3zNvv612xT1M8tzz3XV6CA38TWdsVlagAQi2xUmXmTTBA1zS/zbB6Pgilu0b\n",
       "wgVPu3QIe+V8y5Zu+tj8Eg7sBTWswXHHAsG9GbVVnzkcjO5+Qx7dwPAAHwZqaq+BbHQETbTP8dcX\n",
       "onJWK3A7bi0cmHkNnlqTZIh6P3OS1pwKfJNnhrR1AaQXQ7vemf0aVvGfFP2HZkgBkBMQMoA5o0wk\n",
       "fmoK3oW7AN1kd7ZNe7jf0gh+BEJ4RRmNhFaq398pjShqlLh75i/kDwbsi1xiJ44UZDeMUS3neBZ8\n",
       "trqN/V8T+fyY7ffhoPRD8pjY4t/Hq/+8nkHxIGoSqvMod8NsFl4XUIe+ifqSfrw+DlboNeSg0uOw\n",
       "8wpKQNJgyHMHucdHSijjSQr4xUAAMf4gy63RJZp4G7kU2UkyIc4N+Hrqr0T2ABzmboDkF7q1ehV0\n",
       "6nUj5E6BA1MIKkTbX4+05v7Av/Dl0rG6A4j/9DlAkgWVpbSUNq4p2ljrAGqvtst3zBSaM+btyPEt\n",
       "YM7nOM8zzdUOp5ifInIrcuc2H3N/0Is1FapvStxVSW9WueVt6vf/ZFEIud4udi6X2jOnin6D4SvT\n",
       "MDsZEZARgb1UuqCsHaVb9TUizqJsk+jeFf/hMijFEBaZlwnxpEP2uey5tIvWtvMNx4WSVwUSgdvW\n",
       "othL39vcpG39ndbhbZSXKjO6SM8nTo/EDinY9qQ3P6WdxYYO1uJsJcrbRlC0PJflGNTFOO25UcyX\n",
       "BgkxHqVOwtAyePRDsx1PLaJvGpR+3JiXp4+B9ml+HgeMg8gy2dgTydE8vhuN2gSiCMw+bSu9B8W0\n",
       "pSVSCaV81NYZZ9XcYlUN3lmpGANcOGIoV7tC4ZmFuBUiU8wrlh25cjUbZE4Rz9l/guxcD4Y2qb+J\n",
       "FP67vnWjv9P58ZxE6cOq7oOp9w8yuT3n4EBQpMF4xFi15LWc0SIqGy7MRXrmE7mnwVi0F3u3mwnE\n",
       "6x4R9J8UXWQ8IzWpOHeWgWPmFk6MHSfuRKajBp/jF5/i3nlLcBVWrRQ51Gflu5Agm89MXwxa7wfJ\n",
       "TrxfHsTieJa+USCLIZ3rAh4TcgiPxDdLNhuyXoP6mFA/ii7tTIH9uX5ijnfaNFnDxUuTFn6OZdUG\n",
       "BnOHx84Td3hyr6ddqzknVoHhvNsmylNOcBQB77YW7zijM3oOxBM7MMEldGDd3X47ELx3po5qZ47d\n",
       "uaNrP1pfQiwlSBZPrnVSZn1kdCfl96mopWQOQb/hTTyfxfzrcsKpEtPKY1uXpa/uM0pIlgAbAbay\n",
       "hsJiY/puoAOw1kFi06/30C3oBZB1jlSgGO0wgIjo5cOcwk8YCrXtDoRv67KLRUXFZBcIMLBtZ9Xr\n",
       "/tN6CbcMJr3zVepYByLnxik6XV9/i5BMIgs5FiPyzdDCTtmAnnHJ3lo9iHPcGReqA37wajP3/yH3\n",
       "sl2RPniJehmfijQgJIIOIHhjgwVwdGBCALhJbQKNA23Nn/ZkpC3s4jgkj09dhZQSqs9ihlGQSwfy\n",
       "m8995QOqLDPF0xu5HmC2F9WyQQ7w8sqK9O24Kom7ueOLMV/UssYt4fcgY/1dV2xO4ladd+PuTFyh\n",
       "4DIHJ+69rzwU7lcB6SEmoft8m5lr8k80dMlEyrlq6iPdkdr/Qq5A7vc0tJv+Ldq6JyeABhj7IoEL\n",
       "K8GeHKO+r/rEWe5QB8rM+W9VYsjlGLvcnufpkOj9gQ/EE3T8HekKFrBhE8bGIPTbnNypajyg2x4j\n",
       "G+tHmgrREO20ruWaqwq8pA+PnnDiz+SXXhTqs62a4iQRlvzJDtxYe1qNpuIXVYehZObeN6fw8zd2\n",
       "vHz1tfAWkd/6M4uwJJqwLhq8zhSMxJqGSnZE/M3FEqA+jxUGslhV3/Lz219XU7z2hbZMCaTI2+wB\n",
       "XxRXB2uB1Z2ucgj1MvQWp3bdwRQs0N0wy7imTF1T+MHI1Jn7pDdoX3/b+fA+jwMAxPyw+/jtuPZs\n",
       "UGyAUCEdzgrSQ0+FkwN0yfCJ0pXACgUq2MHm81kLWjQsjJimmJyXYvW6dVO6mT1v8lpVYmnvcNzr\n",
       "LMPgS+OdGe+Y/8MKaNIqqNL9gZeXfA7aWFjwijscFsfLN4INhfiD1kPXsuUA6dOL19JjpTPCQYyB\n",
       "GBuH6j9kjhkRl8ctT9Ex46N062OGlybFgpVGFcFSv30QoTwb4ia/ezEtPGbzVCeG/5103ktewHM+\n",
       "fyFLBA00UFY+iEN6z/RwPf77CXkCCa0fKl/nLSLbYv9aQokozvnvGyReY2g7Np9mWl7q2SgnFahz\n",
       "NiUYsqyxXu3DnAZHglf50XeqtXdBUiaDQQXggXkfht2FWZM13o/wEBSft7awrEhh8/fPh1Y/01hl\n",
       "YMHOXjPs4kWjbTdfDyNMUbQmBwHpTRx4lHdS9zk0KiaEmllEMVTVnQfxFsNV/QQVKKWKybMX/Eoc\n",
       "Yg7f/+HxHJLjo/f21DHDxzAiZGfhDtmPgl6hrOei5pJanuJ4yQ5yaWnnYVHuFcdgfoTZvk1OsdAi\n",
       "OtqKHNJwf9lIgyueJ3ZtMw/DUyMxp9fK9dvuwnNWOtvPPYhIDftWGMggos3Pf9wHfpMTtzT2RcDY\n",
       "5iOFiF4r/6i5uMY5Kt/KFMhjNN1oPaqxH+dAuxU8YQtpHMHiRfXaJupOd+2ds2cIEcB2v2410fF6\n",
       "wIFSAuvcVqYzuhBZGCEjUJnCDrgIapyhfSKpAGOgCAxBXoPJCe5fSjsc2b1sRPkiIIQSehdtvkgl\n",
       "9LYqsxr57F7xXbDEnWYevRZXMmFineLYDvbxM79LHgKF5I0Qi4nb3NZGBKO+wiIAzhoPDAfRssxq\n",
       "Zoqo/9Yxrn8mdj+fZIZLCrNOdwA6ixtMST4EAckB9McOJq757VAPRw9VYdt44dpDdVDNchQBtfLM\n",
       "FARd6rjlWg1GZE4rwJkpmHE++AYNVdVpCZwCEinTB/NKi/s/QbZbdJlusxVLF2sNjWyyQykiZqZQ\n",
       "ME6Wg+a4YAx7pH8QQ4tMVifbea7BJlnioJlKTWjc9O7bv94tkZ3s2tHfOHchFUhoAdag5OTOH2cU\n",
       "pFeBlPGoK1fTmTULhlg4dszr1st8V7RWS68YZn3237V3IMAOrBWh5UkhdQGj6Ps9pQtn9NrHUX+H\n",
       "/2tQptjUJLKkM8AJaG6Vhe7rwJ4UlS6H8qMd0lKGiRE2FGXSiCb2a6FrnFAPNnWiZg0X21tek806\n",
       "lWu0l63G1E2TEkVFndz2n8RicSgXe2geXtBZzXUXinyGJabx01StOeb1RbVrlb4vnl+il/cLbh7N\n",
       "btYcRnerc6mg9xf5U5CW88B1YqsbiwiHt0brTeqkvXOv8j7KNkGLNvLVyUhSgkFI+lXg7gauaGMl\n",
       "wiBNT5TxQP5JBn8dMXOzxg2/Hv7w+ABtMd9+UijSoN4+Cq6ZYdYGCREm2x6MA4DWP3raR3XMY++Y\n",
       "x86rkxoujQM22Iix3v4uPkYUf1n5I8rD8O2aQGZSVrbHeHU9rJUjSzU9TDdgD8qfIGJQTQrDYWvT\n",
       "mURlZKPDUFDMuG6FfdnYOIHX7mfE12bm4gewqxz03GSjUUAOkkvJXOmhLSPlSz4QCnEmYEIHsaVL\n",
       "kqJJvucGr7/kfxowkJt+qeYh0ZIVeit1QaqzEtGAftl/6vx74rBH/ng93ca1aRZvnsgUEqi4ehUk\n",
       "+ycklUZXYDYEUAPfSihhWD8FZpnenYExynOwmA9wUi2DII7P2lFpSq3an/6XLEXd7O8YGPnLEo4D\n",
       "3d4bf+9d2B7s7aSjugY9s3TgN0d8Az9yHeHZEs/T4oRxoVjQbEc4uY74yDUSxIexXHYTAogXjmUO\n",
       "iQTWoxpow/02n6fi23sz8RuQDrhiHK1InWYIgWVVKAog8DBeZvSgQgVtCTYClAEsKDEiLbo9yjEM\n",
       "r3yfQPV1LyyfVti9jc5LIjEH9QbEEMVhtVhTw8PIac77Rp/KZZVooaDpH6bx+C41jF9LNmBmu1Qf\n",
       "MOhMbcHp7jaYsjK1OpwbR4gxTDMzK1KL3M3N5dsEdeH86iOCzjpvM/rhzhgRr5RnJ89v2x2sSxNq\n",
       "XwQAIpr+hNZZvfdnaxOxp2A51aS5LCCuaZ3PYf0hBjIqE3namWW4nfgDqGYD7oEDjFA3oHYgO+4v\n",
       "Z71ZSoeGcRnjUd89GZrMvCPSUMSuGbB/5oLjEqTzle6+AiCZT9dpivEIxHQ0gvk2vbfa5ad8vW4L\n",
       "WlFs5gS8KFBV535tvb6w+iIL9JMOd8cxsBKFM3Xi0mcfEsaS7zoNpS1DVEN8G/Zb62+XsoHhoTQr\n",
       "os2qhn0SOwcj/poDYiuKiMN6F1Lv0AZQLF+h+D7ZMQVZrOC6TbwIbbiy6xpx/ElB8OuAq61KUVdE\n",
       "AAhHdVIzLHvyyUJ4nJ611DvVbvJRIX8Q5mW73eT82IThuiPk7duJZFst3D/2dRFW4hrG9ZoOIOEx\n",
       "qcAf3Y37VXlYE89ySbc2bBXb/fgSdutclgdm3u65BAvwdMmeWQltzmYCsgHbFvrDkXs42Wk+aC3q\n",
       "KkXEqiFZORHUpowYWi2sQlNsqG3RwyeHEHDeqJmloE0J/q42gNm9tL1MvHyvrBgxrpeFwn22awPu\n",
       "ToWREwXqeoYNPzbchJlcJrteATER9GjHjnCZSkXy6iHhz7V2dSyNVLAQMaYbDYS9EFrePl6TxEd1\n",
       "+JhHl1tMeTfPn1uIrYlcW9ngz7XACnnX578ecESSkbwGyt/SuCSXgf4riYbOIWGj0hrd6sQ40Bp5\n",
       "Elz1aBDyI+o7gtYdfm5Z3rOxPUDNkCq65AhdPhJFqiOzwgbYMbVj0Q6CojJcXExkycQAVVXMTll1\n",
       "oxgtI8Y7dJi53oSQ39oNec/XUNT98uizSIVb9sVQfkV+iITSf1U7ZlR7PBJBJC2874wCWuj7IOPm\n",
       "VKzrf8Dhj8fmvljOEERQhGpTC3ztSeSimrJ+VDSknZTKB+jWwGCbaUmJuh20ppa4krmkyK/IHkyf\n",
       "VrallG9JKpvd5QrEpHmGmEBOroLb7YwI4Hd0frCCJQo9narxF77owWR108Ck8UKhxxSJT8Itvptn\n",
       "M2MsBuEchsrkDWfks9keKhkGizOmXKNQu2yVHJ7U5RGtswZXsIG+MSlA7UMsAgl/wrR3jYHrsLxN\n",
       "Zi5Nby+c0YU/ZvUKgxwntuJ0DI1zkkoNyVQ6hhtyQ7Rnafv/L10ryDO+7zvjAydOwZP33FCd7PRb\n",
       "Xj/ji6q76VOItKGnlszN4OQDSo3rRz74FZHakubQZ0BiDaBpmX3ZtiviG+oAHazN9OJpTbMaU/7v\n",
       "nNN7Lvtyip/JaUaWa/CoV+muNl87m1QNU2yn8VqE2Y+H1Ql5sCFRAIzHCvAdqKHuGBwbFhWCGg2S\n",
       "v5Hy+Vtam20FEAwDtfyYZcKj2z66rxxYN0h+zKrZ1QTVcYwoa9WuOiCB1wBy7Lfy42xhHNR3rtn8\n",
       "yZAVIkG4+olc7+yxx8vyRA9t1enKo1tl4VUb94vw8jZapoNKSVuTVgHtSKCgHpqctw9b6Mz5NHHa\n",
       "4jAbIED30PyYgOD6MMdG1L1BiFm9VLfmfIXucxeNPSWNX2r6Llrr6JVogQKhDKdo+4+w/SMzrVG1\n",
       "6Mg1n9yq9Qzj/df+ySFhTcuvlwOv+0vuyriucVbiPtngIRmqB3Ra/WyemDoNjt59//N3W6VR+xPt\n",
       "TzBbr9nPIuTRFsQZOv/UJTc7L72PpKYujQmetzDF/UL7kMaRlCR5Ng60Xt4luPV269qMjNtwhPN/\n",
       "+OV30d2916fnoMhUO57Tm5Ki40QupMZCAPO5PGI3r5U6g1DvPy1N7Kx9vmaW9jeBKtlTlJkAADY/\n",
       "PeZ+BLJ2puHEroHetZdpRQ6TlCaLYm8LnIdURXysli+KuBOW/ijqnPlEzFYMKxIi87T8hlJjskBu\n",
       "aGEJPmErb4qxU3st7Q497j9Wn/NmxcCJA89supUcDkR+U9FoHd5sp9UwTD+7jT5dGhMlANhcB7/3\n",
       "57KaL70YTdRs9jwMpjErGO68LQkFGFTo/mr8+cHyMbOh9pdUIjPe5U84p1I5wBGTZWy+XyFxyIb1\n",
       "FY/0bUGXQVwE6QMkEmUVDP3sJJmaSRFxNgu3XFs+tn9+WSt53VOILWyJ/GJwYAzCTrr9uDBV93qt\n",
       "/6VfIQsbXTlOwg2qyrXcURosd+TehRqj9uqV4INK1JSUUV+balgnX42S5GN/JieOzdm20lSgWv/3\n",
       "0z5xCqhcjxh5gJ35UNLk5fVfvXgJ2OamN25+c/I9mr4GsDV9IhK/M0qnSMj0nUXp9V5qV6K3jdeY\n",
       "6B2m4pGWctKhOY62oQZjrkOwqhM94AmARr7ame3IE4dKoh6n/K+g1beoACnFTE5EZ0C31SftMtWU\n",
       "ur7ERFzrgJJPdWQK9bejdDBIt+a99uX7n9tpLNFlnfQ8/epK7qOkh4ETPHaLvp11egD9T3Lq6IJl\n",
       "gCxF7ZBW0JfYGBvxqVwOLiBd3Y5d+NPzE99Jwattb+YOuZQf8gLDwTWjblMnX/Uwc4Xm24t5Nlms\n",
       "yFXKc632YHM+wJejeqVNF9ftBP7jMia4H/fEYsEuK2nfDYAjgjaFgtKqqzqgAMEy5EHIJaO/EBid\n",
       "zdY0xG2maEkEV/U+2JthMhTRrhlBcPUZ9tzfKD+7e80QKtEdjQ71rqpG/Fen4HuxKWufuWs+s+mY\n",
       "+c7jwQMmJ/z1zosk17eooY97DKFGv9nUkrujcZmHHOlmSz8y0e8hJ1RXWyRju7h8ik/YBJ9sawVp\n",
       "JYSohjANWG0YoL4qxmoa8VQpQ41W3kOP2AJV5CkxiAtbay3ZvyzVrMYLeP0xYlAuiGZmtfax/QuT\n",
       "6yX5nYOGHBJQoXhWvHlJqyjHANlFgU0Dsk4ZuKT6InrzU82+tR0Q/tLnNWLE2YFcO4+h85C473Pt\n",
       "YIzGEPjtLzrdz1zmgOe9evR4oBEz223xvqfE2evYcEWsO8aQ5GpMFUbZcYU4n5nWM8LGoMw4xGRj\n",
       "CvOvs9F6dh2W6Zh4lc64Zl5VSPNVgHJzK55o804sY4T2eqnXqIT+F3Di1dw0wm+XneQYAwlT6R68\n",
       "VAO5AMsEyDpksHq7Ut5vpxZm3PL3RmseVvpX8bembFZWjj383R4vvQ8c+s1FRrR7Y+8QNOOe5VKf\n",
       "KTL7/kwoVxQYTGk1qVbvb19aiZOB3PaIFoHQU9ednVX247BIl6+T+QnK4UaFIILLwN21gkWqs0fM\n",
       "rTJTFY0OUP5iRCh7QdXCLOfoJezGDtCzQ2sqFtw+tWSJrefCcq1Zuc3qE2W42XPHdLRLLWYrKkdh\n",
       "QVn+091DH2ssN5jSTHaTztVD9lVMSNerYq4uA8qN+JJNUTf7cmyly/kHM5Qh3ZBiXBoBk8vm2bOo\n",
       "IMUtRO00Q0nJYOfcpauwm4IAVcRU4ahjts2xMooudRGjFM9bWxR7cOc6c/ns49HKhH0JItAqKx2r\n",
       "n819YBbGUMdwl8UQvOdmIqSljnCPIDpXm7yVC/ZEGN74uctS4AAtTb22qSVMoYN2kViA2Pr3q0YX\n",
       "szFxYxDLzq32Ql9kwtozyu0F1xPfXs9V/LU26W2l3tR6iwblsijp8qZq8zQ0zKn+G6zn0XhkWFpL\n",
       "aRchWbW1bRBVqX9/d+/y/rWGtA4Em/EOurMhfeTh/pinBGz2EiLFipgEP8x2lK1IJMxn5xKQZk1w\n",
       "0YgcVQwQrqe/6sgtS2K9azIc4P4Vinj3T+wpdbdTz5iu6n+IlgXsHuj4bSNdTGJ5YghMwMAJUPmA\n",
       "7HjmpzwzXOsFXguqEdZ/C5lHHx3pFK6gxe1prL41t/qrHlPUmyfUfRsGNGUdV+PNchQBRb46XjJE\n",
       "yXaNjsA7TyNIeJAPM7E3NY412p4UnKXNDxYZzwc0TecmEt7+AwYmXJpSyUX/hOAr2URDtD7K44Oo\n",
       "r6CPTqogAr5kb4rEq0YlXGlDjABUtAjb+XNQDLK4GQEAI2i+JB0QnEYOeFwn2G08Sc31WpfOIlYY\n",
       "V1LDL7giXeLj4EdBtg1JMdeSIfKf436EnMgIWj5ixKQZ/obVJQ5QT7EPLluWdXerIl3fzmtrHxed\n",
       "lTAy8Donp6ENPVjCR17uBGk7drfroHo3EVqjlBtkatxfv54m+qOzuv9AmeZwO1BY8rwCizk0CJOB\n",
       "Ng+n8g5JoAqEcdT8W0wSkRBQhTB+be/SC8M+boXg/rUeCdOtLVyS1RjUgntROodCTz9SywM7xP1D\n",
       "l/5/P9qVMNy4jI+njZ/85f00p6aIRNmZyxMCMWqbfE32QAOPpCZ87+XS1dNABtMNs81n660S6zgz\n",
       "FYrMyexZN3ltVlLilZDCtuvwccqwAurb2Gi5wncktiXSHWHvqBgMou4U7omZvf3wdp8xfgnRo1mE\n",
       "KBKQOGRLM+DUeiAKTunVuoyy4ek13sH1rvi9gBCRd3ic5dNrsX0mwZ/L1PSGFGFMk0qIubwF8VYy\n",
       "FqaRNzxtD/luERZX6rcjv8M2W4RayeKfkUBMMSaJbzJdeQdk9QJLo3DrY8E7og6FA+P5RH30hPj7\n",
       "OndDcCmAvWR6iTD33bEr67qVHjHGT41cBcwDWJFi0SUvnBI+tyMu2r/jwmtNGsBQRjfFDW3vNcnN\n",
       "c3MeOU6ySENHIDfTT9oFOxZLNZTtag/tsebT/ij/C9XwZaaVqJtG3uVv5KZhH/oG3daa3w0Sa2yz\n",
       "mK1B9TL5dCOPXrLAKuQxJtJZzaw7vW3LawCXvOEt08epWEBt0Z4l5XbpyW8mjitjMu6yiigWoRsv\n",
       "Hb6vSuDfqzvwrH/1lLn9QM8IrNcBBC2ylu1ZdxCItrDdQzg0dExftEyGooOLfExrv/8DSxgBJcoc\n",
       "c8qPNQVAHs3fzenR7NrPLBibi5bGHupUpnPrxHrLK8JiOb27LqNVJjtl5PnTkSCxyPt9TpHtGw3q\n",
       "VdTZer54UKSJwH+5+Sc9/IzkIlBHE3mlR0bkjw2eU+uypQSEksm1hH1KPmsAuZQw360LCmjLDZdK\n",
       "JlJxAMvr3e+KV9/q4DcQF3zZLQqtHymNlgrbbNt/Ta5aJIaJ9bDh1b71r7bSgAQYITCgrjlHMkhK\n",
       "J6m8NeBsOHAOrTwR7cvWFMAwo+01uJ/BtLAAUgI4qEfmdKXZIDrpvp/eRysMn9VCyRe0TaBOoJPF\n",
       "HmXs7tB22CTxq0jVNADGNUbzczPk+ELwBZopfQ9YBATucHsivFSK1iTDtLXxrm5dc1wPr2FH8/Rb\n",
       "TblFjxO9GdmIAa6NeCm6yXy+M3OzvVThdWBOfIiw9fQKvBvkIHv53S/525tM0Bf+c2fAjcQP2QpT\n",
       "ZPESdd53xa9Z2iXtWpSntVyzm+5fhkbddKBkoEUZK2/pd6FFc1eX0rbX41ex0em0hv0QCyv4cZA2\n",
       "CFO88uj2lEFomXVbHhGPD6QHPJ00Y5gTPahPd9i+JOWzbAZgXErCfrqmlUX8uyif8yPDtePugs56\n",
       "Wei+CAGdQDjL+1iPJ31QLpFbxUPD6wEJhG/TbRQ1eU2YuzkpyHinmJPVDv2n+mG9TmPnnP7o0Zzb\n",
       "C+rqrC6V6b1SxQnSsAq7vvBPnsOQY47+sHFnmcYJcQS0+sC/6Pw3/eVQKjQf6LYN5pgMYPNTCuHI\n",
       "cJV4hUzHcX7/7r9VaaC/moyGU0Fs1ejP93Gn7xt+uxE64xy7sjF3cnoqp8sUEg8XwNBXJ0vCxFwr\n",
       "RG7xkAiMlr4uo8ooyIz1z1dkIpuVq3ZkHIgGKq/5NRCv6Hu2d7I3ODwujslUMir++fT6203Mbyw6\n",
       "bNGH8nTxsvl7lHM1p4drE/wCZ5xcL06WcA1Z5J3cFxlVUVEmfyOwuarujUpkCgo+RL0IH5Dtel9A\n",
       "BfXXyIHkOLP1fPxwvTl3ozIk6Z4SZvUtkT9//Oa7c3YTC7AHilQEYBEs+Pnh3zEwE7A+vmamiIzN\n",
       "WOP8uv45itMReu31oN1ekqRW24ykAGd4GZ0NiT9dKpf/SSSRfwAVMCtFM1SmTBrhKsoBX4G0V9/b\n",
       "NEULJHCucjkofiyoQ7kLADBuyMDO9cyFBvj0s97yXA4WWpaWeu7mLUNvPt0cnACIQABfLgysfCJx\n",
       "QuFj/91BiZMFVCDnruAO/iUt216A94FULpMLo+bf2VkJdOdoFMumnuTQ/OigqZdK+nkrKlNXYBTN\n",
       "GJGX+HqH5HX4/+N93a8UpVP306Jmoo0si3TWm6qIvcEb9KF7Xg24+WaY57UGXkq3bIslUjKx7qJv\n",
       "S5TTkRTyTjSDSb3A3aukYexLFqLuQKMlfTrtDuPFS77bduT9VOVr8DDnHR/nT5a2II8NZHzmYHjt\n",
       "LOuPHXuveEzBQsKmdtX6EDVhfYhIHkV3RaBg2OioLLqPtxhn4s2hJuIJz6Tnta7FuglffqDSEi27\n",
       "Q/mv0v01IWYxRXMD+/tvlOQ7tMZ22omHzM1TqA+i12C4hz4AW47Bx64oLrrHD21O3EkBCkFNDuS6\n",
       "7cviZYuA/V0hVFbIo12hDjOSjxVL9F+2shrvKaNhnLAWxAkTr0pplYyO0SEs5ZQuVkEuXmDt3gD3\n",
       "4vEzo2j5gdGKUC+Ic8ImVMPAiVaj4zkl1ojGvtOeT2Rime+QlTR5yJQe2zzOsbCiFznb5tan33so\n",
       "7+azc6KezhiPtHfsUjm+OUD4i91Z+c0E1tDZld0+IYHO6j7AEls10gxwKfE67s3jN/PR4iMXGM6Y\n",
       "jyrUTaqVl4vu4wyPkdKchYS3yu4G0dPGWehSh5C3CIef2IBzy/VrvgUUA/9fI9z3u53hGed6TSsI\n",
       "KlEFCTpQxwUdbNVF1Qmpv8ur8vl+JPIUf95GZ06pAAe9T7EVboBE2KWNkRG3T/Mx1PyzT9M1zao/\n",
       "3/F9kq3PJYNgoVFkikqBv2ilMxB8sbkSUwzYdYTC4zTT5CjyvHJ9mM//mMf5EtHn4jT21kUmqCGj\n",
       "3HlFyTJH01N7FSV0qigkZCzptI0jLS4YEPyoCp3v5JZdPf4mQbGQf8gILbkltbSQHhC/I7OhV50Z\n",
       "2K07FiBCDNkIeW2uo0y+Ssi7qCpUkbFtxpyqF3G3w/FragUF9OXespWx/s87lsckIQ4VRXN99VZm\n",
       "CTpGz0WYeg+82JsWZ98zARROE9TJ8A6Sm7qCJcoNjxDpfSruN89m9WN3ceKIn9HFv9KiO+RHyES+\n",
       "3Na0+tfMMbfffaSsVoCIDZpi/ip1lEpC5P7lPITTtdMFg2lyUSei140HptaAroboPQw91YjsH9sA\n",
       "WtVLLykIpbbKyq3H1JOhCOhza3R9Jut9KQJwOrYdYniRjeag+YJROXa6ICABOQzY9VfDCz51bdqv\n",
       "DnfQCAAF/uCYL9HwH+MEITbq01d7XH4f+ptnFriXTQDXJS8J3Umep8L0Wh3gTXamU+tyMq80JeOq\n",
       "MxGOJ0ZnR+OfRmlD/c4w2+2WHO1NpwI4Q/DS6jjn6WIfubdOQS6oF3LGr7n1r3z6zE2KdbzAPSpC\n",
       "sqy2T83VGydIu+DxY7JdMqI+QNgqcM2Y4FeXWDV5zjEGOM6p72l3Rk/SXgMHKoAmUA17mtGt3zJc\n",
       "Dvua8SdoofX4I+atR6PV6odiTnZTyZA8qevQwkgkZXAU7jVRWRncSEOtzJBaIF+pKLQYcZ8WgMHW\n",
       "ADMwHut7Ocgnh64cDP+UD4jYjWK+F4VRLASYh0BbeIouW+MNKP+qxC4MhBm+aLo/vWUqmKTFM8tz\n",
       "8Qe/7coEzyBbgTSZ6o47eyWkkrX4OTpUtGVl7tPhha/YR6pqSaVehZyNDuEAw9anZPJth/7wf5Pv\n",
       "lOl45IY2EEYi3uXyMko3g4MnXrk2TqJMeh6ULqImhGYlwYJqQmqffsxGHwC/ruvgL0Fr/oN1TyHh\n",
       "UUi7tpkkhYhKLLuDUnFXje7Aln76kPdNVeuhihOIQdTuRNQ+PJRR1sO0536kgRJ3FcpCrd6lZN7/\n",
       "2YkZ57z1Io/zF/0BHeOuPeD0LTabfcAabCsbGr9s2Pd2rQXyJ5WHCbnzTHVrIhA2XGLKdZW+wzW9\n",
       "kMopBosZAQw+GAJNXZzW84b6nqZ2jc1EAsxo7+WEMYZ+lkmhOq/bL3r0rh/uUKmUZGyBWiz/I7jW\n",
       "Eme4zgpAT4CNf5jYRWIok/y99WWk0mon6bk/zrjeMePI2Tq04Y+skBarSeB/9twMlQdpHFKBbnzl\n",
       "2NpQ/A6W5M2MicM1vt3vm6zkYeKFEy3/7orsQ9qVSMealNVT519OUfGb/bXYCRMhfnvFnKmn3uB4\n",
       "ngJnMbC4KP5VACMGykW3Q2LgSQoQ2lMroJCjQDXwEFHgDWGdrV84Ljkib3zcZ/HqfQbHGjRb4Zqx\n",
       "XdarvDuACQ/iZULVHENu4wngaOKHDO6RRfxNi+PWsttTYwK43lk8VLokCJlAJ1qCfwsErIAnO9tN\n",
       "1zE1GftQRstmbDCPKo56LJbC//aRSx61OJwMR3qI3131lK4h/rWNxxiRuNaYdxWXMiRhWzTh61lY\n",
       "wwRyEkU6/veD4bfiSK2jrEkJVjVjCyCtOmsgdTcFwok5CCNbgGoy5nNV2/o0Wu/4dcuJeR1uXl1P\n",
       "SpcQ4PoP7OSFr2kyfT2S0rz1OiHO75zvcvyr0K5cCzUKvTKmWP+W1bqzyOSdCnsKIzLPzIw2rvUM\n",
       "UhaE+DETZ4Jggf444/vPV6pyhr7coCZh/yY9mQm+1pbr4PvLk956dd4z0YHx112wBsDoq4GeYgDY\n",
       "u/DAKgaUNnu6Au2/v0iznCjDt2VRhpx2ezGuJ59ZeU4yXcTPrEf/rGYmR2yVlvbntEKKmSewraZT\n",
       "rrWl89wLKGUgupRhihpCVukUyUNtAPu5tTQ+O8cF1OB+DlooEeSmS1YmOEk7mfqhH46D/Nqzu6fw\n",
       "NFJpvmb1kTAjBlA926XK4AALCV/FR/YjBtopaD0BZW0+wwEGlmcBRoWVzbhEJOI7pY8fe1r3pF5Y\n",
       "VmyNGS+e9OS/9XDSI5OOn+rQC7U+soR8qE40Lgc8nu8t/jkynm/toJNpq44ejYPCXvs68+QeA40b\n",
       "j1KZlSo6sPqCiJgtqlgQotO20pZ7rwDnAscIRd1z4CEbe7/Yf8FANBCznq+AtAB15ukvZOlw5167\n",
       "i6qdRObPa1FAPQpgQPImITfOuJJ+rrrfXh1zShMjNZ+TBBNWtP0vWEmKluh1ypdgeizDDukQNrNZ\n",
       "p6ndo0+v6rCGrC93wAzc4CFqtkWcO1jQ1xh6EzUQRKiSqampYIpNGWLaanUN3YjP7G4jhqv9NcfI\n",
       "fpmCepTyISDPi/gqHrCYH6eymX33AFmOUDTSufJirEguIoyKf27mP2f+eH+gsUji48QwBUAdNQ1U\n",
       "9zaMNPBZ1yv7vJ5pGqX/rseq03fjANdES4/Cpzq90+kpBqWTYLYu2bEdFBmdR/jcH6/FQpY/jASm\n",
       "6GmsPnG2bRLruN6X+a7FErFe81ZAJa+5SZkRinIStH9htcSf+mKHRFxVObRU6twU3U94tZh1iExY\n",
       "dA5Y4P0YLIJTgVVd5PzXGT3s5BPPdVz27Wx401ZXobnL3kME2spu04jxjkMUN2YMPLsiLQhukENd\n",
       "DX7xchCNUI4nbe1MHvzD/unLSZ4jRJnbTdaxM4x23ULrLz2LI3w3n/7nyom564JEe/DrGi37csVR\n",
       "qbXC+5W74GjeFatM7xOZwnEKRkFp6o6A9Dqh97pT5SKj9HSN8b6B4256XfWpILBQeft4BH5fTcM3\n",
       "Ruz3XfkGxzW2YfaMkmDcxLHr1f8ePKl8W/35S4e2TrY7kXZ0lvotcf4dTeI5A1er99y8d7SGn9zM\n",
       "eqt4AAANmnwf63lIoHIpImjxBC7iTS/S3IkDIlJk89JnAmHQpoUPgvtKMqoP/x7NkQc2cSJ/FHjF\n",
       "ilOEMOn9fW4re88rP56nnslF5ObFZYweD0bcKzFrXL8A1rXYPdF4oY7xhdiliKlNgM+1+coj/rkz\n",
       "WP8XQhRCpgchmI0vzdfodMnQ1xEJdIdY8uovX6aCPo3WKAqCTs4txFMwmSFf6P+Qpd4zEqwk0JKJ\n",
       "A8dQZpQw67ImVIFEQQFA/967YBCDJln04i8AtG4V6jsLld3k+4CIEF/lB3Xt++JFulu9l0JgBr1F\n",
       "qsRW5ctX/H+HXU35FCJHCANJ1yjT12/rUlIX+LaNCRxFeMaNOdWVLvXSL0jwRHdnl/Wu7HsutHZu\n",
       "jY4LMPdPQIEImhSQ7H4URTcV8RKLh0tWeG7Veka+jQlngYaFfoS0JnVq8c5qwzaNzYStHgHr6JQS\n",
       "VrUXVgGEIDgdTd7VGpAXXvSgUSCdWJBi3L0N60zXnpTIWQaDnBtA9f8NA/wjHoarmf/PY3OO7TXh\n",
       "STSxCTvEI8oESHfhJn3gRqioV8UeMtogf8EWpVXb/bYGbJPthLIX62KxJczFVEjhpuQwnNMDHSA+\n",
       "PTfqJhhm5IdBB5hKlSbBFSjjjJAgRUaeuYHSpJJfVDTASBtTiare96sqNKxL3usVWcET/UpLD3w+\n",
       "fqjOVLkmbKt8cxYj3OBMA4P/Y4ynbWRwfeWxG/cBEbj9/Pex5hstEft7uydcPQ2nkaCHZCztFeG+\n",
       "yfGvdHf2eimTBxhR0zGZAcLry7MMokPBh261wa4BvenGfXdiKMYNuveVuXTowHiSlmVdnIlAqcnu\n",
       "Sgx8OklEgYhK0ERJJAmX3uyCfs1dNFeBXdvIGfm7pi6VaUqB/L5b66C3ew/WDDUBvDnV8PAtN+76\n",
       "vw7jR5EMQdXjQzeOZNmzyKkphxvB/oTKki0QUoHg7oS8h2ektKx3yvKQBCIJBzrxYlzcWi8xJ/mK\n",
       "EbJ2inEo/67L5uHD6YBAYYE0AAAGCBz4Rfr+YTwgSSYeZRGZrlQRcRkY0qr27VlYUhqhFuK698jl\n",
       "+64CE42VyUinn0rzKSWl4LFiuhuFTCCy1nL0LDAAAJoGnMogHF9NjDSGWDBE9nUd2vQ0wIwmiFHg\n",
       "N0z1LS5TLTglQnrxcAAAAwAAJOEAAAJ8QZohbEL//oywBEfiYSkeAbVXkeyxW56//fpgKgS5xA1K\n",
       "QDCQAsPF5SeTY+r+VR5bSHpWY/PWWwu/7hb6zGcYnhMGrHWkZlsB4lMl83MPCHQKHyGqgZUrgqiS\n",
       "diPLg0Brb+aLZ7QEqkm17RQHJSxuYloWQLer795r/XthGy7G0QRxA0zpMwzwV6Zh0koKPULaCBNm\n",
       "3by9a+inSqfSZf/jnZGgASK2GmCHMk/DYeuceZrXb+5NwuomVtyginFnh91EIxp2ouIAm2hLHq6K\n",
       "LlHAoGGzrgrFYWh1QWsgDOAuiTQAL9uQDGBuoLFZrqu6WwNWFtSlZDHbbd1h92LfvwnNZUH5HTX1\n",
       "j+h3D72PRs23tWuaCjAOUzhO5FwQbZfvi/HR3hy4kVn2hq9hcgsQD8nPqMmjUm1XYpW77MNtWJrL\n",
       "R4oNkD+u1TC+O42X15Md6/rpb8MIk1mD4GJcWqE3gj3fo2m0jn0lC9SOKk1u8kvFIpJdMTXIsELZ\n",
       "gUDohLV1sn3kQzYm8dABo5jLIKjgEFze1DH7nbfwU+4kouXdexhTVyUPe2BTvoNyEy8WwIPsXqb/\n",
       "8lFF0alCRpWYtyKwJyudk1Kn+HmUNGxkPhpxpAAM20NpWv0nAEg9IcgDE6h/UJOFvymLBYzf0zGS\n",
       "C/6/8HjlpSAQZs8pKP8cB99ZyaEuGzO8N2V1dUor2/9IgfTavaZC+k6O3CSC4MgtoA3I/7EhD1Ul\n",
       "IXdKWurygJHwqwcsPNSQ/erHapnSubCpFu6qpC19V5KetsBo7gc5ol7Iq2H5KGeP4PCTWc5HIqOB\n",
       "3ZfzRgBiZMxzYourNYMrYWfgGF/iXv+9bv5VYiSAAEPAAAABu0GaQjwhkymEM//+nhAA2PseFz2G\n",
       "a6KVKd7YDmMS6C6CpCPLPVywf7pWY2WKSCkPUzDKiT8kEb7aRHPCPxuYx4vqxTvUNQq+a3TaEk5k\n",
       "ofWgbsSYA4Us2pVGNf8+on1i43WpipshIoYSRj7RS36Z4vn09MzY9U7Bx9HcAe0EZ0jkoF3aVxAt\n",
       "RIDt0h4vBrdLP2iiDHzavZoAEAnUcdOsEC0S58CX7X0+85OYzPRZi1ZC5J6Q9PF0lKvVc6lzNvPD\n",
       "vlePKWuXZ9IgOnQRNdSD8uH7agighdRTE6Q3aeRITzFJk6aNqtAbkSiqZvAtIqs266K+0/EO9rwq\n",
       "AkWnT5WNzuSKOmWj/wGQFUBvOlMCwrZNIKeiVoh5UCfJTumR27fD0oeUsroDISxWFM0f2zqHRwuj\n",
       "3Lywu72n/zYtFwCKKkrxTDGndFLdD4qvfkJP33BE6B6vhfbnazP20kAqxai9WsoSd/dkrBELS/tb\n",
       "dU2Exl1shZuHQh0FwGI9DFJ+5lXcyL8+tFV0KW5P//uXuozWFeOqEYoaSFWIzC/IMx4Y0/r7wvez\n",
       "y92XF04DXiUFYa+k9vuBVymctVuYADphAAAB90GaZknhDyZTAhf//oywAATn4nLmHbB3NQyhvpfS\n",
       "EP6+UPiQQSrcPz7f22FW+5csvix0lD8pO1NzEetk6HNE8gB0J6zuS1ubb67VuDDzgNSiv8MqWhAH\n",
       "5dKpBxyOt0NaxixqT+RoObVWkTlInfwKJtmhrTsnIxx49Ei34tBkdYRINyltlKbaaGpxkkJuij7m\n",
       "YF5995aNbKUgMz9IKVUimn6+TrM+uEuXnuCvkpHmZ3o7OV472ljYeLiY3WMpq89b0wrHVpJyt4d+\n",
       "MTxAR3jd0ruJideqkKgaSwRbJgROYNXOXKWOvth4kBfIW0p219Ox19m4f3BfnOHkiRNaRMGWQR1Z\n",
       "gHxMRI4QccepZ0ojl2Gr9/2F+/WQMB77GnWn9gE2PjuHGYCImzi301OSFhGWuinfyxxWIW7R6e/i\n",
       "/vyzncPK817NyIce1p7hFoOO3vhcT3Cr1b5BLGHrfRH7lhv6216mPDyRe2pnsPPiC6u0m0tFbuoK\n",
       "RTEYWfPuFyqj5WMXCNZoS2vsMTdaWBCBhD5Og324KgnFzF3f6CRO+EQZNfG138Jy84rfh+RSz07x\n",
       "vdAhaGFxCBV+LzcMQyzfEpIk8uvkHTm6YhP0btpQcT3T3purL4Yp/cLvIHosivk85DnKOyx1ZW+a\n",
       "ht0p4r6sDT9S2+YP8uAcAPSAAAAAxUGehEURPCP/AS4Dd4DX5DGZ53Z0x00QdcP9lkgMAAtMnozs\n",
       "vony9VXNSZpXx58/HrTqqCz5z3kzDA/UuuZQWKnFKigkLZJA7zphVzZqssfzHDIvMGNRLdXL3CmS\n",
       "/H+k123JLBEG4Y80RmDZiAw0kG0zNpRnD0BhIk8v5jq7+oW67ewHzpFiN36RVucOOPltrfv97RRL\n",
       "e577D9KccIHRg/ip36y5ALjzkdYQHXkJ8JA2cc3pJ4fBRdSJcuZu83/g6REvYC2hAAAAuQGeo3RH\n",
       "/wHaifuea6ae25N6VaC7TfxL9BuqavdLb78xAABdK0Lj8CcAOLDSnCtaj+AZoR+FKv+4kGhnNgsh\n",
       "ytUucuMeGWejdoZHXlAbW/eHxnJyXNjP846BoDvJdx1aJ/w43TUtgbvkLH6S+aAGtM+CKaMoJUDE\n",
       "i87hG6/8VxJApMMbvnlIiiswaYy7vwoIdI0YH9GYLpw1dvaSrzJAt+IlEskpk/4unsCaGLWd4DO1\n",
       "TgYRAFOPwM+BAAAAqgGepWpH/wHbf60QserPCCELEHQdF1A3K6jWUKGsKiohAkBLesmvsDCuQvAC\n",
       "3i9D008aQYBmv3WH19jDcuWC8LQLxvEM0nfz4iIhE6EfyT6/Mfjjb8zGTqkk6Vx3D+RpOG8x8iVk\n",
       "xCSWbrAByfYGxx91kpyEQ8xPwhVKqmBaIvI6rMJCqV5Q92m+0ZxUcAAbWLsa0jR6h6jbKU/Jlq9m\n",
       "wkqkMaF0u8pIADphAAABPkGaqkmoQWiZTAhf//6MsAATH6FSVubDWeEmqgZ0hFVsdEryk0AAAAMA\n",
       "IBnGydmcgAsVB2/v/3tGEHCtjAz/gX67qNa9sqg1GCtjYufPg8pIXxvYD269s4onu9URLuCaqOSb\n",
       "ZbRmlncdBZZ+zKhoMHMuxB5I39RppQdFvguzztG0c1//7SR6jxbU5bis08Gs/GpOr0+MmCKAK3NB\n",
       "buInIpgwAztlwUeBYRUS7xDJb6iNkbNGuHDcRVarWhpBPY5Ip0gKu5/2slySUjMtiq/NHqwYIo1k\n",
       "OCOuR8Y51EvBSchxOxyLTdaKmjWoOoHn/n5CvWP2tZmxd2sIjQpSHz0LOdBYWYzoLPln+OWfbeiH\n",
       "FjmIr/f7RaVFCUx5H2UVb7TvD9xTygwbtE1SjqG7v/joPSOWHKy+EUNZn20JQAAV8QAAAMNBnshF\n",
       "ESwj/wEuKfEN09nVn+8Dln0rXcAAAVWHH3PG6/gczZHGO+wfzWhbI8Pv5PYKjPbvvAB+6IRV0YOY\n",
       "Zde1AkB5dl+JZ/L1wc/zV+AAgSz7A4ZlYLSDJOi0vvYglPGpvlJOe25FucEBzezCVmaEQLmM99Kh\n",
       "Snt4kVym3//194KT2eODD+m3TPVU44cjS8vn3N/oU50aBPvc+F1YaKRsoLOST3sbMQeBgHlCdcy3\n",
       "OsQDG65rduYmAKngHI1ahQJAA1IAAABiAZ7ndEf/AdqJ+sjKW1easZXMbi/xO2JEfUER5XUbD6eS\n",
       "4AR7tQCMK34W6uYz4w0TaqLs9rtMsPPFHwINDZAXuY4PBilM+MqOkbU2343vb3aHC0NRB1gLyFUk\n",
       "W5/6uVBFAUEAAABgAZ7pakf/Adt/rIF46dCbxkoDDgO0RHOcOENCewz8iX3YYfi1mWc/DNs2KYHl\n",
       "UhAABDaTXFkDPRmojsSNvYAAWuROAzlJuzT1icTsm7XeFc63Wflj5hFu3NIyqWUHADHhAAABa0Ga\n",
       "7kmoQWyZTAhf//6MsAAAEB43+CDtAAB+6zk05cQT5bz+SbZDfVvV33+KJhPFCjufa+AQzZ1f2SSL\n",
       "K6KFBoKo+q8Dt9Gs9oLcN5aaENmcbOYYFsyd8ai/H7YHVq2Bef//CYBPQpmiLl4WvtuoiX3n5Txt\n",
       "WgjzkMPoiX9TH91BKUQerWfM5fo2p2luSVuA/+SBoFKV5hQzsnei4cNHETW1I3rhzhks7E3zXnmh\n",
       "2vqJCVX3C2/hcWLzQmKC7JpaHxBWcc0Tt/C4MHOmwb0AAASG5HQntgYtJeptsvemOZ7xPgyTUDlF\n",
       "1Farb8nheNvcdbwAdAZuKdzy22XubT25vH0fxswK5M00CwslrzqgNv4HMPW1X0w4gwOzy3cf91TO\n",
       "bZP5C8078FJgHEpzLYMLyGdgaK3gFmu1z3tq02QTfEFVNKI7un5RTMyNHC5moRVtG99TE+JMULB7\n",
       "EYw767Jy5qYaAjgTnSglJAAyoAAAAJlBnwxFFSwj/wEuKfEN09nVn+8DjMvJdzI2y+OlyAAAAwCH\n",
       "/s9Z8coR3fACVIFrSGiKoOZ0GZtczUoMW07xlp4kEYE131ZcmZtEhjkJwjn+7gG9b3WLh6csOZcJ\n",
       "qjZcuM7NUQ5TfFj9aB65fgsSuSYCEFD32JAAAEUxn7LMHKe5ksXVWrchn4YlOatKhZ8EjKLk0N17\n",
       "sqAAh4AAAABoAZ8rdEf/AdqJ+sFb7gJbwy7Cwr3T9NcaMpe+voD+865HVVkcNkO+CJSgBF/+x8N6\n",
       "OW+sP/fCtGAwm5kisidH59qpNndn6KB2SgAAAwHx6cBIuK77GOco1CYl/8AmtAV6QTxJbY2AAl8A\n",
       "AABiAZ8takf/Adt/rIJz3oD5X3ekSgAJxHmV+1F4iabdMx989FPd3VcJZGkghyuXJuVBww+84HSy\n",
       "NlUQDHPE6vXaLJUdjGaqAAAFroHYEvK86ghrzMvYWEc8IO7CJ3cmQ6QADPkAAADFQZsvSahBbJlM\n",
       "CGf//p4QAHR9judMx/BqeoE0Wo1RZaZQIyjUKh1WqaCL/t4sUz9kC3e9viUDD6qEVKnd6moh0cPJ\n",
       "a+bI/4eYmbR3K3vG4dAzrtNxrCtmk0VC7wKHk1dSjf5PsgmhB2nk1KWkFwtN/k0BzjgjUYQ5fZ18\n",
       "M5vLMxNTWAQr7HUaOxm81FJVIWnughh2FFiF/cjwJuTKPvEJ/ZEVjNfvwStj6T0151fBW9e8ptL2\n",
       "AKu29guJ2P4CWzOM3gAACtkAAAEeQZtTSeEKUmUwIX/+jLAAAYp6dAATt40gXlqN5gOIc6RiHmZc\n",
       "dMgrXM9XLJX//g7nBn6UWacPn+/B9t7dAQoAAY22NqoT6+dMCqxd0I/B5Oegw9UsVrJblouCnYkU\n",
       "eJtyqOKzKQVadz0bt8cYJ+dUB7ekn7syMP3GpucPskhJEHbfNXYZT6db2UMc6iQVESEQ8SGIST2h\n",
       "5D1QUYoAx4MAAAMBs/awExDrgsaEd9iVFa8UAApEkWWDUhltwQfCvMj5EQFPbskr25wkXIeG0tA1\n",
       "GGj9Cdu3v/z8qVtxStRl8SmAuFebkM7ov4DvJzOPy4P4bt6eKpC2ITVy8n++Ax+Ld6mipNJhwuYW\n",
       "7wYoSuLFAYGaZ+ypQAjJUKkQAADjgAAAAHxBn3FFNEwj/wEuCmZcGIrLw9xEj2fEQZUHyfuJm3YK\n",
       "1SsAE4xe/vee5ylzqgM7CMSZicdbBrdYntlCUAoIKH/E73YAAAMAAKksjcfpZt3LxBZkjJq2AHVT\n",
       "4gATwKXgvQX3BQyztfYsvTPZ/F9rx21XrbSzG8F+d4dOwCkgAAAAVwGfkHRH/wHaifrOOK8vAwLC\n",
       "AA4riNsXSryutwhRCS1zr+tb5Vxu9vZ/TS//Q773/4AAo3eSUj0+1dfAWACvGrOQQhvcen+tRcoB\n",
       "8RJ5nzyitrzJAAB0wQAAAGMBn5JqR/8B23+sur74vmdpudKTBL/KgAlnr7hIRFb3ZbFPtCucMwc3\n",
       "TI+KNER1gAAAAwArVwA6nbJXAqz+wsCI0aYKDqt5dHXtLnA1MBSTqWmfCd7xhgKtEs1aN/S9uAAA\n",
       "wIAAAAFpQZuXSahBaJlMCF///oywAAdIPhEARIYzCBrvFCXPjkhny4xVEKkvf9dnjXM4eogDWhBO\n",
       "tKPX4QWqDX7ydXrTBJE+P3rq27DX4SgCtZ90YLg+XkH1RSNXmc9Z9tUxPHVwLIz4cv5aXvDc3o0r\n",
       "XaE2N871VZuaJDGYVyVU4mxgEdEeNL1aGR+EAfzEm4Kv9yvAXd7oLOUEuwk+64TiMGtm/WpjFAmM\n",
       "3yr6MakprpiUaCyD8heCjlTnIAAAgT5oeEc0Z6Mn6qttl4UBdsIwK9pJhnTLgl6bt5KQf7wyXq2e\n",
       "jg7jqM/inHfwHBTJssFYQhLNIqVy094pqQFM8wI2HjWKYyZ/FX/4en3P0IU5ubhr7hnuO3tSbdy8\n",
       "8rdMrSPkDHm6Bvv/3esQaLFZuf1/edk7pp8kB20z/F5xVy33meEGhZ+Q2LbRRCauzSJnCx8dW+0I\n",
       "eQXCSzLZO3g07JkADwguEmF7fASbN8AS8AAAAIZBn7VFESwj/wEuKfDj1ZWlf8xtw8kKgyF/Pqle\n",
       "koAQjWz+XXc2bLQiIb4gTFMJ7frZ3aW0wYZyFPZaj436uSoooKuGh5A/x2AAAAjg/i3T3OdkvVSy\n",
       "NhIw0ry+mjU/4Js7az+wVyThx1XBvhNuoB2/kWVsanAuitduaV0rZHSmyTiyscAN6QAAAHMBn9R0\n",
       "R/8B2on7BdN80KZwn/fAAJ1g1Czka9NbdRW4sKwr6/UuKLJpOmPJkmqiyLanaEiZmwHyg6tT0kiX\n",
       "yx1rQQABw5oC9ibbJDEblMvJof8qzsyVzgcHZfO7a5bzVQBTAcBHNdn5Vt5IhgkqDaLLUAG/AAAA\n",
       "iQGf1mpH/wHbf62Z8MflXDS2/uUCEGW2p4ATV0Kf1YuFvMgp4KD2os8RHS7dDLdSpNg6rCX/qJp1\n",
       "QkQ0WA4eDXtK4xbLzQMB+n96zesBAEtmWRqo8MOH1FehTmYHRQvlSLXoL6TJs4YLfv3JnaJpCrcF\n",
       "otDziafPhvATVO3VBgRzY+QXecIEoEHBAAABS0Gb20moQWyZTAhf//6MsAAHSRkMZ0yEPuEAzlzJ\n",
       "NatAqeME/reOtaX/jDoB6kT2Sh7fq8d2UYln/pSHtQXF1OIY0OP/0uUIUaAZ4VY/I6eghKhUDzD7\n",
       "Cs6TNlcxRQs8EFcVnIEbp0f99+FIDZo43V9+5NoscahhNmoIxIj1X1VYGpS9xXf5ccqzRpaIolyF\n",
       "u9AaLG1zycY9ExAajyrjQSADFhVPsOrJJKFeDiVBHRSz6Nsm+QHMu3LKQkcz8ivLGUVQZgEA7XHz\n",
       "GflEmSa8uhJVEzajsbrbo52Q6N+lQtN51a11QF2doCOLIl0M8jbstfhPu1Ef9ALhoIQUuFEWBREH\n",
       "qWZ9HyRcpj8e8cY77JC8qINWP+uUXMi7K7m1YzCbme/svfYhssPU6Ab1kzqRfy5kzsR0wV8lFW0C\n",
       "+az3e5LQmIOAoE446sJgJ2EAAACXQZ/5RRUsI/8BLinw49WVpX/DpfXNAAfzpewRMznd2xhobj/6\n",
       "W1CrmRdZKsbnru45o12fyFJg8/t7ONskHq/CvoAEGYS+h++T5fZ9ezALfs9MgA0ixqV4cQAADG4S\n",
       "INuqR1N2zAoHAQgBhsaySDwRQx0vl3w/n2zxczG3bBAq17OdgXiDVJS05Lu3Pk15HochP9IdHYAB\n",
       "UwAAAIQBnhh0R/8B2on8En27EGYUapd7b9LvfdQAQdoOewSQmNddQ+Sy8aYNvA6GwsWyfjgMU1TN\n",
       "bj6kfpNMdWwdOYPf45zaAPK7D3rXM64AAAMCXh5fqylnA3yZNE5xu0k9Iqw9RhPNwmRFWWEzSbKA\n",
       "jl3K5X01HOB4J88B94p7kIAsANUABZUAAAB0AZ4aakf/Adt/rZleXSBkXW8AB/NL48mZaqBqLpvC\n",
       "Zn0/kxXvsMDzz+ulw0MVPFxae3SlPFGuHcAJPcQIO7UnBAk2rmtDgY6OZsSbW1ZQzFRddlF3oHaE\n",
       "IkdboV3Gsm6LUJH4inSXaHDeFxC78i1I4AAAOmAAAAFHQZofSahBbJlMCFf//jhAAAWFYkcKu6Ng\n",
       "e/1Jadww92gBB9IMzNSH4cIS4aHlBdH30xQPKJkc07OP1gufoU7Lixhj+ElbwXc4TgCdb3ZCotb3\n",
       "D6qUaNLhy5EWasWbhcSwDPiL5LuR7N1Ezc4wHpFQgz/bfaHVPejxFnXWzCPRlnknPI8+mXfBTRg5\n",
       "xcCefpIGb9dppQ0ITHiwxUylVHKwtWonGqadXn+gj/YXZx4r+yVoB6QBPwMISlHzV/KmmYjYGuj4\n",
       "VIgP9twx3XP8yXT+dNbQff8djuZdkpdj+iKkmY6XYnGVbI2hWvgGsIXb6NnJW2xztaxrB298mQA7\n",
       "P6IF/TI5QAAYGQgHlZqg/3gPyUoH4jePD8SydHKzCAA3XO6Z7Ud34jf6sOADUry4ZvG608r8qaj1\n",
       "rM2+f+WfPFjQcjO+jVLEADuhAAAAj0GePUUVLCP/AS4p8OPVlaV4zsflBrCAdE2ACIO5JlRwN7+w\n",
       "Z7SX/j0v4K1BRTsPcXVQqskTmTEHHEKW5DgaVwCa/K+OoAAAAwLx2/ss6EE560k8pfmlsFjtr2WP\n",
       "nUbhfjjC8o8ZZ4kuNMgRHSuz38cXX0fs9/a8ZjQz/YLTBL8QISBtRzFo7BzDrMKDgAoZAAAAfgGe\n",
       "XHRH/wHaifr/7GlHkQeAAP5zeSxBO+fr42wM5ViPBw8hneQh3XTEfytgYmY9eblwN2gNXu9TzciZ\n",
       "f1YUDOZOjvFdwdzUJrXniQxUA7+mR2+7gKOez0PwEaLqDAYHarH4bFDtp9oaK5cikLe9Zkpf+T1F\n",
       "Ps1abCBTN0ABgQAAANMBnl5qR/8B23+stJLQu0mpVAAH86DTDPkVm+0zUGEgJ8n9T31iTotOhF1w\n",
       "Ibq9/8OWyHB0WFYdIlTqV2VGDJyqIeM//9uyMD7yAdBcKXHHEGncruKigxrlWZPDiwLL8ab44uIP\n",
       "zgoVjyy+QXG6241o9IvjpFBu8SSQowbZE//4R2fg5BIc5Dh3Oy/TsZj6hlf0paR6nczWUz4jxfV0\n",
       "x+Acq1tGSzMY0ArtUuJcDFDx9PEwVnfJOE091/BRVPWYAmx4VrjrSLbfIht7Apd6qxEAALaAAAAA\n",
       "mEGaQEmoQWyZTAhX//44QAGx9SLRLDoYM9FRmpcPbeADtDZO6T3k+5VCpifux0TOjlbcsY/pyt/M\n",
       "QI51GlYQ39VYGSEKa0JDQSBmAxDbS5JDlkhLioIZRQximW/9h+W46Lb1AYQPb3qYu6xePDAKPGg8\n",
       "IWDN6LzrePM6xYZxDHEFPXGuFAHSSV+49z+NZtzCpT9qAwgAAFXBAAAAlEGaYUnhClJlMCFf/jhA\n",
       "AAEExQA8DJick0QBx+9AYHRNGMopvFnxXjb3DjKUgsKEoALLWc236El9dde2ZYSTiSV3plVycy/N\n",
       "GGegAe9Fxuom/3IXaf/Hcd4+H+pZIDeJ8pW92SI1SYLZOXgqfIPrtrsSDkrsPTQDVrMUwiWiF71H\n",
       "2KpHJKPAnRUfZuBi4LRJTZ4A1IAAAADDQZqCSeEOiZTAhX/+OEAAAQWreE/GBkTz6HQxjENyXMEj\n",
       "bGkxtK3JN0F8uptDIDRgQ2pX0rHlwIrJs2PhWEslz/nuHKFGOImP7FTMfHn9kVtbKOezHK0NYBEU\n",
       "svVro77TU+5Ik7IvXZSddlh5zfMnGjE5+K3F4t4mdrFqzhnqFLjqZxC+kKrVyWtlXtjTi8AredvY\n",
       "/5WDw/GX4apZVzWixzajNz1uIRHd8NDute7aQhZClWoXHHOmrwanHBDuwJkJmAGpAAAAtEGao0nh\n",
       "DyZTAhX//jhAAAA051hS6eGBCAqvtJVBp/kAJ98iq1iuEhYFq89uWxKhO4S8oGXZMWweCpfd985r\n",
       "/6rSAhnaDi8V6hIgpqkAHtxCTHPSPI5Q/5aP+DvCJsq0HHScYTTLNuZNrgXXhZLc6Lgmr2icf9uJ\n",
       "BgxU8ron3s0/Uzgs+WY1vvvUxvM67h5JQAABG+7Gy629Se+sZOrwEZLfcCIPsgcMB+Wa+pSATcVq\n",
       "YAAIeAAAALZBmsRJ4Q8mUwIV//44QAAAM6PxUjTXtoDB1RV2OBkLJED4yIvKu9DNLzlj0eKvx5Ob\n",
       "OcRfJ/YBykr+v9kgHTVVfAdP2BXOG72OzfRRuQlnoDlQ1CJtuI/8iwghnEjgn2DWD/U/+HCzItfB\n",
       "IN+BdTakvqiogPh24U2TYN6l0GV89AaDHvBuTMTgHTlF2uuKoMIcQA/gQan/C2JdebEabkaMxcrj\n",
       "8cLXu0eiENk+rvbjGUuQ1IAMCQAAAJRBmuVJ4Q8mUwIX//6MsAAAAwKoVyi4onc6/6yAPXddg9XV\n",
       "eosoaCc8Yq44XKmVZ88gt2iFgPjcr1pWPMfjc7IS2E3PG02h+m5wUe3uQyNlrqVrx18n55ASK6lU\n",
       "n9eP8XB8kalkECIHPwl5e8vy3E/1pv97OSbvsLlA42yxO7ELvSMcfCpFFMVmdxyDMN6nifIh0AEn\n",
       "AAAAv0GbBknhDyZTAhf//oywAAADAW3jqiiACOrKKX+KHqreAjh09PN9XgnpTHeOubgM2SHWQVs3\n",
       "ZCVotVkNcsZvX2VACL+P8Sc5rKVHrbWSDivkzvDiraRwqr2tb/tomOG/vph2qKBlEp6osnlYlRvj\n",
       "p7Yv0hwG/sbT75rbyyU2RQrrsU3++pe6N/xDWNOLm0UpCe9aTLYo3uSb/eeOfB/dpqpDl2ihH2kg\n",
       "QR8SGcFaoypUPua86718ohQY2xFwAJeBAAABVUGbKknhDyZTAhf//oywAAAkPG/wTdoAAcWSL0Ku\n",
       "oda29ltq8INZZ4MF0TgOTh+Y1xu9CIUjOb7jSIijah8Or7ipPV2Hc0MWKMHLVtVIcCkoolc/an+V\n",
       "+frGnRjcvKsjhWNy5uuVdPXEOLbJS585Nh0RPtpp+LY5k7kSQT4tvNiKc4Sa/R+LIbE7wOrEh0Ry\n",
       "NS1RIp9of7jo1X/HFaC/0fWcYRRKLpqZDTgYqvWBkuyZEeY9BlBXwpuHnePOaUuN2LZxwPyH2StR\n",
       "00OhYwoFHCWA/gJzAqcz6EeJjUhJXUBIf18HDw1b16LBfBU6EFG7iwP26cKFBFHatWQ+lGnze4t5\n",
       "heps97ldNp+nwh1XQY0UFIwFQU1m53vOvlZjGCxuX0jPFKyN/TDgheBEIADRc/apUhfBU2Hd1Ifl\n",
       "8qwAFc34PJWsvYkaTj8PhA0SsajjpTvngFpBAAAA1EGfSEURPCP/ABZ3lPIYun1Ui9mYOu8mJKnQ\n",
       "/1eW/3w4i+xt3pP2OyIEfsfy3WsHM134mSFKNW9DactrePDTHcm3tOAE7YR8I7uubY2t1TATAJmR\n",
       "Scd/SW39Z7ytobQQK4VysqeD9mJgbxnUOvsQ96L2YCUZs3GbHAN5ay3//dA6rfx1rHVR3dd0udzp\n",
       "w/URHHRhBEkGH3cIytB1Wb+Esld9BVhToE8E5uWb/qU9jQA1yk/IzuhTRfIqjvQY1z69rfSrS4yw\n",
       "rfBtqFKHgHyuUH5wAAg4AAAAdgGfZ3RH/wAAAwOhXxSD6n2RX9UpqAjP1XbNjIja36hx1sVTOysA\n",
       "Jcv/z+6Wp3tjAdm1+V3khdxsBv6FGB9l7BGEwlq6t43szSHeX11QH14AvzKF8c0k+UcTQEs1RB0W\n",
       "jiephnds4h0O5arqWST73JHQwAAAFbAAAABlAZ9pakf/AAASX4IDVFzOsHCpME0kAk4imc7tY8AW\n",
       "i3705Xol0Tsj5eBDHWxCOwfrDPACaYe0/BN/+HO1Xx/odzHxW9Q5ADh4mgV9QgTe6swCPNo5ZqgS\n",
       "fqXEHjwqjVuORYAAFlEAAAEyQZtuSahBaJlMCF///oywAAOOF1SAEgoyRoT+6SC8FvV3vzKUbYLp\n",
       "nsKm70uR/63Hb7Nz6n+QpCiJVoypDEOl1NeDmANv374u7WOXEa16QAAABpBxO1hWszFJnb6DzRiO\n",
       "3hujlA9dyid0NzU/r9BuM2en++jJvLJZm9J9qmpgbJrJFu/00+587FRNlvbQM6P4pqBgydABqPsE\n",
       "kxOuHy9EPdOJQPhGRJoepo9t7GDfoSlZvpsJ2eLvhYcF86FtlKuuEfWWo6JJB9Yi+V5cjCTgsvKm\n",
       "9d45dG82SLzXGcwfAFqGPgxWCk9XL0bcfLQyWj3aGwtESGdRD+l7SAtuAAjHI2TD2pOT0hYWoH9u\n",
       "L3LUVR0sNTDn1V14VnVC5GuFc5fz8R0MaPz633NeZvRaqWrRhAGBAAAAsUGfjEURLCP/ABbAnu9L\n",
       "vOlkXXi+BAzofY/hxDWN9C2oRTEy1I8hMENUtZEDFe5eUWee4cavszVTrVmIAYlHtUjKuMCxaht3\n",
       "oAFF2gS2TjLP232OnIjZUQpDlnSeEUsXqj89Su8SOf178AaIKsRbAvFnH2dR8slSUedpO8BJ8kSz\n",
       "sHeyw1lAVW/wx6TZwxk9X6OgZYGqCbZvBZ9c+ZKEdDKPxIytumjps+cY6xL+K1oH+AAAAMEBn6t0\n",
       "R/8AAF08viZZaDEV/ous3TtnATHT6jReWaMhrmeggLWPGNtB+KtrfACZaN5mXj4a7leeAiklsGq+\n",
       "zGivpAnDL9vk81NIib4NC9n2wozeK7p09/B0f4ZOT0gYSLr4BjeY9OJux3jfQFmZL367fSNHuGGk\n",
       "oKPWXIpPJl/jD5kPYNfgr9OPUbR+cpfj7ALwZ4c2pQ/4+TArv2XpoQQzY52F1D+U0ece/zwNwVFY\n",
       "dTU71cVYYMzt6D/NWbj7QATtAAAAsAGfrWpH/wAB0H6U0ouZ1g4VJgmkgEnEUzndrHgC0W/egeG1\n",
       "RmJW3ac6FzGCs7iWV8SQcWV1FjFYcfADbKjVY6T9nnl/FmhvXvXbVpaz9DgK29X93BvBb8h3ujX/\n",
       "bfLFvgy8bkQEx/9eDBOvX7iK6afzem9HFxafLNkj8rB4P9K8pqch//+eMPN9SeaMhmHSpVX/xNUg\n",
       "MrGA++7UjYFuL/GlHc1WYJP+LCXjx2gkAEfBAAABr0GbskmoQWyZTAhX//44QABFXoILQqIAMaun\n",
       "myp+cfjysrLX7Kb/50Kv++h5OBmRJh466ZWIZ5mL/r/byxsH34SU+eU8bRYy9i3Fhtc/eOaKceB0\n",
       "R1YpGs68m6mbNooxdOeAAb4aWXGScG9AkUBCWTHYcdkvct+3XtJ3Ti3nTwCD1OWyJa+95GrZ+W7s\n",
       "kRQnXfxy17QSz55/Yn9taZe+CEf2YHnQB9WVvOIN3fQwLvL54Hg8PhzP4MhVLhCjdqf7cQVOBrUC\n",
       "1UBfxuPopW6bYb70J0DgAmYDsx08/SauuAvTlnZeZ9tRGjHzR32zf9FQj16QHCmq3CUa4KPUl8//\n",
       "wAWogfZWWG8g0xhVOxnOhIoqh0XWtyowpi2Y3ZOGcrLX5FhoO24raIX5xnd8S64j/h7UyLeCiBpL\n",
       "02vFCMLMb8NGeTs/acuawB6Dm3yE9vR6t7n5DzRygpb9IBUnaTZFMRImZv3AH6P+FF6mCAp1KqMp\n",
       "C1k/SKEneWtURVXv0ROjBOQBVf7VCzLWETsnhQoo0Aa0eRvPdBomdjdk7cbwK/6l4Q8sTNf8caSB\n",
       "30lmgOOBAAABB0Gf0EUVLCP/ABbAn4bXX4G6kgCI2cDIL5P9HxGRStEPqyJyX0vQXRQpdRItiR2O\n",
       "7DZ4QtH6BOCvpx2xBQLp4dQRnz911Zz2NwrRFDQgeAC/eGXkwUstyd8b38Bzq19zhWiq2jUqEpCj\n",
       "luL6+XdGdngSETZXUDtL/urP9vzlJXrCk/uzVaDYaaslN6sBp1sT97A5YU0MzJOrz6kr7j4WKxFg\n",
       "bp7VmW4vXwx4R+Z2L+VFfCb8QZMfUNOJ796A8Pl9CJyMIzeHgSNoEGIkkioi145ZbQ2soZD5HtSS\n",
       "z5esf6yPymLHNheEVQjXGf51uvJQWfwoi1kRbDCawD0CH8dMPCeHz+UqIDjgAAAA1wGf73RH/wAJ\n",
       "MMXEyy0mbe8HUw4yZF5DwFYYuBb63uOHO54Ta9esaCVKQAlT1rMN7MVYcALUsqhRC1hMCly4UUkU\n",
       "jBa9A1VgB7AuQgiutuJqGmiDXNbuqhBXItPiidsZga7VmrdeKnt6hnwtfq1IaSR+KIhZfdC2aJFa\n",
       "YQ7hDXNbYffRXuXroXWQUIXpjDb1+El22ir4davIk9Tz56qcRHjCHvHsUy2ucr3ULpJsidNt7Zvj\n",
       "qkErYMteN/3DZiW+KyFQfVXgxjcMfKabHp4osKilrtGWuAsoAAAAPgGf8WpH/wAJLHK53wHUgACW\n",
       "1OzYU5MsI0ZYx62aJlgABMQCImYQY2fl9psXqpS+/ax0gI7LHjntG4re2hUxAAAAU0Gb80moQWyZ\n",
       "TAhX//44QABFqN+4BYgjdvbOQdf0Bqx3EA+71V0Jt2s6QAAAAwAItBK/jBvk811yAsk0bDfZWIO1\n",
       "ebbRi2BA0rCTYzxwN6Nt3cXEAAABXkGaFEnhClJlMCF//oywABIAcpcW5DN/plj6eHFLmfnGEtNp\n",
       "fy0VAoU3qjHkPu1YL6r64UMHGc7j4+B9VaZQCT2EpIj3Dku1+gjqQ2DYt7n/xPxr8mr1p5I5x3lx\n",
       "ADq/C+YU+XOFjfEL2+Xgdb50pinSrQ3RqGujggRMqc/kmRboHUgsVTJW94mNKXNqtQCZ/VBx8DN7\n",
       "N4hftsn6lUjPOLj1pwLXgoyWl9GdTpBEqx/eJ8ZgB1Z9Kq1Ex8Hc0BLr60HrTtbHRS0VX+Uc2TBu\n",
       "tM4/zWCmQgpgUAzxB/mrbMe/FYba2rGl3a6kVZxW//8PSZ43AiyO/pA4QLFniGQtN41kh2l+qS1w\n",
       "fmIWLGIlwRja8NLEhH53AjEBFg4ta//etdxJRZX64su7xliu0RaFwIObIDJRqWwzClqeqGBhULj2\n",
       "M4D0DWdyaDApcgCnwxFuaM4kJ1rYtqvVXCWMAKaAAAABn0GaOEnhDomUwIV//jhAAA3fuRK/czrD\n",
       "acF+RdHMJwprVAdAAAADAjQE2Ea1DOuftqGG95sVfuP2kYrZOLVPYAmrf2Zl2SMk5uNY2YkSlW/L\n",
       "kRUreFrTYKQsepple44i/QBuqQkHqpwl10rqnIJ0WzGJCwcTC3FikUBkvcFfm6vPzIusDazDAvyW\n",
       "koLmgpEKr2zTS3LUmgkEsYqUs0U/RXbkzveS+OuGbmIqrRDaGcia0zsuFGxSGMEYfq1q/Rj23ah2\n",
       "tpIyRTSWwyvMJOaC3j4yK9eVimuWtJ04ctMPv7AviRRNK9He3jsjnsUXslG36Xv+fI4KBj0WfaV0\n",
       "bm/e9XaCyrHMPsph/Jkg7fQp3UIrMLY26NN+mmiAT1BySg3DGaYu5O56v7Pg7npmuTJGdgHxVdZQ\n",
       "8t9YSZ6RBQZPk1bwvDDj8DKUBDEJvOBpixa4B6Dwx/k/cx3ArUkchcgcwAfGIrVbq4Gkl9srATG0\n",
       "jyAjzWrLHgPlTW7uEcOi5H4byctzjZovfFr0zr0RB88rzSPEk5icV6sDV7nXWZuADPkAAADGQZ5W\n",
       "RRE8I/8AFneU9HFISLKs5M8pdkQ03yC9ja27J+Bh/x+tG9xI/pYVOFCD0vQOkQAhC2ow/8PSLAkM\n",
       "OYAAuKvm52ZGUK6pQtYe2Blr9D3FXqwdrGSGCt4g5O+w3/eFGpavFsNSnJJhoH/65xuBwv5E5Pk/\n",
       "uL5pdnmKqvjzYEQ8Pg2zgM8y4//zr6S3vfuIW5sWF2rEGc12SYzlfqbRPEhkv2uYF1HmNUTAcD3P\n",
       "VIM+uYtoidxIBP8efYumWyJyxIVB8C9gAAAAvQGedXRH/wAB0PRVbluR+uVuNFUnGqb40OpNW+nq\n",
       "XUSbD+zAjUHwGzmSuTUwQAt4vQ9NO5rEp02l4+NHJO58zuBzVaBc6ixRaWyC6xyYTWT/slj28355\n",
       "1HRORUDRsXMdw/kaLzr/PIlZ4F69KzePeiviMM7YldncyYurNObwARUe2d93Q7O154/q+t/MNrKM\n",
       "RxKA+Ek73u4VIfK8WQ5FX3cIWOSBdM+OP7NiYxJ5MNfEeP/n/tTVTmDuoABiwQAAAKgBnndqR/8A\n",
       "AF06jV41CT8eHNGTYfzcbT2hRbsHCZQuGbEbUj3wAXUT9ZWa/0/7GCi8SHKvoHvAGyyDSskKdb30\n",
       "voqwrFhZYTxBkhQwTkGJk4hEJZGFwCjG8oacLQlSdOPsBmhZLgoC/gFtV98OjIcSrq7NI8xTicsm\n",
       "A1LpjKrtzJbAiawnTGfCaJFkANN7++xeBanpd9ZAtkyAKRXb9fpXN2aNcVIALKEAAAEtQZp5SahB\n",
       "aJlMCFf//jhAAAK17Wy1nPsH7FuOCxa0qdF9XBC7NeaecyKBx3NSBUGlv2oWAr9R2OAeO0jcTZuH\n",
       "f/4Ydt23/aMzllirrSM6/JFQeyVqy7/+36idkTfvRvapa79dBxOX4Vf4aQ0+7+YZX59n/nGNcCuv\n",
       "aKSE05Rb85tTx+9pq03aI5hjUjH/Nz+rit6/S+QUEhGMH3yi/wzxHVjjhdXDII735/+HNZO0bO9D\n",
       "NvePp4tksY3F6ElRZB517uCSEIRsatEynwJGErjH/yHOBbEVURKHpz8Kg5u+wBK2YYaa6jhv7SgT\n",
       "aU1HLIYcK4GEwkjghAQsC/ElH7usLqfiu9BlT8TdWimLRkAE4ulE+GYXW2XId1pm+lkjW/6CFYj6\n",
       "FkGwpMPOsAA2YAAAAKZBmppJ4QpSZTAhf/6MsAAASH4OiD+zeLqA2htUam9kpqhllPGTCL3R2pGJ\n",
       "sbOSMiThVBQE+gWMIUiH32AL238dWXK1H7lLI8SMcpqAzNIXA8qxZNJ39xlmy+3uITQf8pSD6Aqr\n",
       "SBQI6BtStapuPNsxc8JGSiXTsT+tOWsh3Pv3RQVOSK2zxX3PvXBJ/nzodGQaowdCj4r/qsyqttJX\n",
       "rkep9dmBQCBhAAAAp0Gau0nhDomUwIX//oywAAAHHK97CdaXcv9HkxUNOywB3pp33Q6LTVr3bJIE\n",
       "0+bsVALfXRmrzzbiCPZ7ycTxGVvBiuiIn6y/D6tWFeFXQxoeX+mxZvNkOse3wDdddSL9g1avf1vh\n",
       "s5t6vDa4XPnjxbmpkQ9Cejp57Bbe2dRxniJToyJNq/r0EgFS6/qESd3D5AqoM//qxtI0a6eQ9eon\n",
       "N2NK5LbrACHgAAABSEGa30nhDyZTAhf//oywAAAHJ9btz3EOAp7nNZU5B9gmBDZQIAKk9ISZ8WTH\n",
       "5aPRKffoAGQK/O0ipZ5VgkpgI5rYDIdXbZlaOESxElidaUtecuat2xfb0oR7Gs9IiUAEuPJQFWUB\n",
       "iOgAABEqpS//b2srgLFXjh6jJdKrFftlD5SecnI2urMtDRvBr80NcwfvITx4ura3lcgZKcOM9eC2\n",
       "uXjJJboB8EcgJeNEIfkv22sN2oZnWCyj+OS/Yh+/Y4ZinJzU3IsTw3Nf76E3H9sCHqoabiGBoS8a\n",
       "2PCQo2+VHqu6xPBEXn74RGr+8x+2eRhDeV5763EDs/ncQWqiKYbDlcKOfCb4T8Zsb2H6SQKor4WJ\n",
       "vnBP3QSkWbxnf7Hl2ZluUKUafg/BIq/5taFc92RBfJ0iYMnnbCoaQlf/ARhtrmv2cVDgxXEABbUA\n",
       "AADEQZ79RRE8I/8AFneU8gTikJFlWcmeQE9VhqF1/yE3QdWDugzJTFBTlRLdzpgWqs8AD+dNz+lU\n",
       "PvhmZTuzkJ1m2GYET6LD9FKah/IA55nmQMFh7uYIYc3SYPKmz8Vz74haWiVukRQKc4JLIgPolvWL\n",
       "RXBbiYHkl7Bn4odi8OmPiQ7kotxCiBl9OB1SGy89H6HM3a/TphVwRsGpcec76W34haz6S0mS7AAN\n",
       "lbK2c8DPBU0ngvcMst9IyrhtRtXOOQP7sAB7QQAAAFoBnxx0R/8AAAMDnw+sKZmdO3PJNl3ykPEv\n",
       "zowL1gjYP++OEkHTQATRfR9+J9btxD04p7gI5dVbk9Py7lE80x4zxf3ZIAEkUix1fF14DmwgDgFs\n",
       "pBuQIP6ADPgAAABUAZ8eakf/AAADAVnMJjHsnB34ZAl3FML49bUAHoyzMBMDrTHl64wAPoxbdfIG\n",
       "v55wssTr0EaIE4y7wACIr4MnFDaMuOs6cORHqLB64czrLgXlgAKSAAAAp0GbAEmoQWiZTAhf//6M\n",
       "sAAADUifgV3P7YAMu7yJnHGituEDxZ3pAzuKnAmOyeo5WpReQCYE6oQv8dnGKC8qqNKnXKHcjI/O\n",
       "rI8WDiB6m64b3A2FHxRqAOgLXfpRgwbTs954CWEedOa21maXroW8BkcMt0A93Wnpy/4x/VKoBv61\n",
       "DCDsoS8eCVjtqMK5at5T6p3FajlRMppo35xtoPaLPODqHNXAAMWBAAABDEGbJEnhClJlMCF//oyw\n",
       "AABGeNpstbZqAACn7vBaggUO2OSyf1ty/Ljn0mEu/Owg72O8DmxL6vLsgX51cgOHBc/YnCD/gb9L\n",
       "uVKe9hbj5yar7Cs+sMvT9BMUJEAO+4INYrPabq4ikaUrSetZIHxWhX4RF3Oyc4Pn6+/IuS4KRWId\n",
       "9HmyPcwAAVEDer7VXsXhhizM8jOEsPKC9abAf93Ln72i4qG8m6j3aG1cIcqcKpr14aiMDeciLMpi\n",
       "qr2talrx/NixKfvHeBOVxLB7cWgdJdhxyQD24y4zXE2WG4bsQ+M7jYv+M0mDzR4MPnubsIIrXRlz\n",
       "1UJ0ZyL5qaQ+dd8QluTId5BCSvY9FAwACVgAAACgQZ9CRTRMI/8AFr6mRZnb3VOAC3BV8F6iqm9R\n",
       "w4rFZJTsn7D1/pV+8pS4CcZL2iwJnN3dafg/gDZMGsaiA/wEU0ogfB/AVPTvkViIILYSfuj8hNua\n",
       "aMpmZDdftrdnmpeUAAAHDB/OQOnCldA1H+SfV90iMjRgYsBroZysymkA0aeeafvs29hgdNp7f/9I\n",
       "4zDPZWlrTqBZue6NcIrZgVADAwAAAGYBn2F0R/8AACLCbH0V/uwi1IcAF1F6cOwrLL0NrDmX1D/C\n",
       "Worws0r/pLsFdvVf1S5MWru9aqQfOqaFYc4AjSlrCWboNRbAArSEZLRAIoqJF/b9IooP5y2mHTJC\n",
       "EiZbKCAiFXMMgRsAAABtAZ9jakf/AAAjvqH6cCGjNA34ACaumDpArapmlaUMxTCrDv5eYHTz5rhs\n",
       "hREMIw/mC4o24JRa4yyrHfuZ6DbT/Pwa4mAB2/or7NigRgRokxRhVhl04iwJ87q+HSDNG+0QlsHN\n",
       "OBYueOpCi4ADKwAAAVdBm2hJqEFomUwIX//+jLAABvPjTRVOxRJ/jZoFTvff38pBGvChG7Tg9w7X\n",
       "m14i9x5UIYdVGkq0RHOThRx+MqBED8C4bZ2gt9D2eGLsNnFbjfnBSOmv1uKKzpM2VzFFCzwQVxWc\n",
       "zGUUBnYeK//AyZHGt0cDrvHo1Asn7d2yIG51G40xj2uuYIwm4Fmx+P1FYh62/+6uhXuPmG7bz5C3\n",
       "30s8lcOUJwr45wGs24QAjq9PJQa2ghVjE0OYK3xg1nILIHD0V0xoHp2nwAmsvb04DxPbD3Cwugwz\n",
       "42RdIm9rt3nPPmTFT8OOSC1dEL0mw0EwBya1k+GngG5R9ixzJdUHFYLPGCAE83Rn7YdjfwaELzNk\n",
       "MJlGvyk4p/CD1Z9zSEkV8BK+5nP5s7PRqDoVeqhQLxrz1R++piHA+EJpgDx0HIzOOIXF6FlF8JY9\n",
       "0UC57s9E5kxVvebk8AFbAAAAgkGfhkURLCP/ABbAnuEu1CbDWERHTYAIg7kmVHA3v7BntJmwJl4c\n",
       "tNqLgTDmj46s/P6iDa8H7NzAAMldBzuck1zEx4AABHvY4MFDst0ZI0l698WH3IoZqCFnahzJlhUt\n",
       "0CXALvkuNDvunTmD+xL7CHusmeWVqnjfWeg2R6T7iJhAKmEAAACcAZ+ldEf/AAOhYx2hrmgkAA/n\n",
       "QaYZ3JfXd9FOfxEQOPFZs8QCT/J5Jv9kAQxAM6kpVs2m5e8g+FTsA0VYcBksbtFZHNCz5f4ERLtA\n",
       "9mVxeTcORGH9Tvnm02ouuY8uenZHufE6FBAGtPvCf5QMB0s/XPgauENfQXxEDV9r8Viq1KKpSaKQ\n",
       "nrGEGg8jpe4gACgr7rgxk1W3Um8AAD0hAAAAegGfp2pH/wADod57rX8vrvQACdubyWIJ3z9fGuPX\n",
       "TwXd8xYsr42bqOeW3m/aZkgMoYHqkQeO+Hde/EO4hXZIYEkghCZUVWT/65MEzdhXnopfhSmfcJ1v\n",
       "ft4y8g1DXiUFmxJALmxm2LSDD7CUnEJFhn9A7vqewSFtgM+AAAAAxEGbqUmoQWyZTAhf//6MsAAH\n",
       "G5Jqy94giqgBCm+A6HM7I0MMBqrXUvXErBBnieH0kHNABn1cCyAdwQgrRhZ0LgmwDHR2vAbgTiUM\n",
       "ZAVLFzk//1YdUv//BaYWNOpsosV8aA9XPgwgdSx2YzVh52/LxfJYynh9fScvhKvWZAX/nMMSSk90\n",
       "lqYUT1LNSQHmJDhXm1MoMbx6588MZoAS78TZM81IZ9k8X4yo8QgmSbLxfGJVCMaG6JCKiEsVWpsv\n",
       "K/slgiAAVMAAAAElQZvNSeEKUmUwIX/+jLAAByfW75MP8MACXxtIy8HyAvTsyu+zNHOoKYYONHcI\n",
       "//s/ZXpzddChxpol8ad4dm2FlZFdCRSP+YWDTYHRYeq4X9IFdMLD5uGKNXWuAnIwHBTga9OAXt9y\n",
       "XDefJ/HEx59PzMEIdBKT9rr2uKk7nWY5vKW/bEFps2ThnnrwAlWT8c0Wi4uH0POrShJH4p8Cb9wj\n",
       "IWit6l43YPk+fu2Wd80z7BAlgR39hDKchVGC3n0Tf0IrAbqg9jmc+p0J2pp+zgAAAwBLVGSzIPrL\n",
       "p9GbSb+34CJwPpxGAAJpdpV2jdfHplr8MZYGqiIvsE4xgnPQEY1gO9OZuWb463DOAhlfisEepTty\n",
       "M3muLpu1njJxApPOMmmYXRiAAu8AAACnQZ/rRTRMI/8AFr6mYbMBpmIAE7dyTKkHe+Im299pkcgw\n",
       "bbVRXRZ7xj4zlIpFzp0sEud433v1VC5rIMuWKX03XSVJ8JrbjCIJwfZDDVqpTfWi2qs93zoRwKBQ\n",
       "CPA666oQe2w+nVAAAW0686ANbh5KreEwGhAY1/2EEAnrZvu+0mNqn19cmzXLPmTHGRhF9rM72aVt\n",
       "UoASV1sr/sOjmI6S+JYiQnSAO6AAAABiAZ4KdEf/AAOy/8vcl8q666OygAQ1n41QCdb7oBBvlrjC\n",
       "k9BKKLwu/NRqJvgD4JL8Us7iJ8taPaH9TY0GSTTgj1t3DVriBtXzypjitOhjormXk/X5xsdH7gNI\n",
       "ExRkB3wAAlYAAACKAZ4Makf/AAOyq/mIAAroDbjHIuYh8XG5j5FiMLb0iQswwWNIsgVrtBAGAQcV\n",
       "341G4AnDz1Ud6s/229AbiJH22HrLq34Kv/7tqtiU4yAr4DBpk0Y5r4AVmcXsljd88QJ2jE1MrZV3\n",
       "C27X60jFl6KOlDLMl8YtoZwHKkdQ6yAKcVWxwgKWAAADACthAAABAUGaEUmoQWiZTAhX//44QAAF\n",
       "0AzZOb0dIZhdJytaxz6ADhvBmZqQUdzjHm5PV7Oz3wmc16r1EHY29SoPPoIvGNMGfd1EbudEP0Dh\n",
       "jJ6shvwQ5l/H+Vw0FPhZ6EcTD2kxL8ZYDKOVV+MDt5h+d+hP+O/Xat67Y8RZvFkKYQ7/0i9MHG+0\n",
       "kjkomEiHsjP4QbLdvPS9iKKjJvkg7vpRzqGtf2qVvNfjADGNqY8n7wA8PN1/awK2zLKuYXM3f7xD\n",
       "2JVqxmdmz7dpxJSIEACHZpGW3Hm7aYISBO5O1mQADLP0epc3d5tEOSqZINzQQs8tCl1p9vjfaskD\n",
       "MXDkzunZy9+fgAPTAAAAmEGeL0URLCP/ABbAnuH9P9ACZbG1pb1crZOQuRkQkE/Yeicu0twEUI0b\n",
       "sgHguqBVeUd73Y57xCR1K74D1qH6qqlP5oYpIU/HZ/3+CpdEedyB+tvANAW39P+XLdiDfbVijibC\n",
       "ADYi00b5NFHtntOZgU5R3JJ+mvlu7aHMUG8Amay42KQvUENlI2fxzxqQIyea+xmPtJQAAARdAAAA\n",
       "dgGeTnRH/wAAyVk0MvMeg5RoAAHuUCzXe2YCPxPrQ2ZQcYjQtva1T/ZDrjBOo3pYKuT34EnhrJ/k\n",
       "/jQq78Hpgz7liz5SBYgJbTYLqUONKIj1QsPP95Svj9M5x9T63JOUj9IvGQwIRvpv97CJNfjh2ALH\n",
       "VurgEHAAAAB/AZ5Qakf/AADIkiwlzBoXgAE6wsmfI3kHk93imnE8T5zyeVsMxGRatu9x2Y24UKam\n",
       "Dz6Ig2nBUQN6psXDHns0b7FBCPSEaZRHQkXo5/9VDc3v0r3wSVrbQkmz5XDOxAteoAvNfdfQM1jg\n",
       "B+GXMATgmgINKRjRg8hKeaBdCAA7oAAAALdBmlJJqEFsmUwIV//+OEAAATTz+dYhz1vOaRecy2IA\n",
       "OcHtS/J4iWyd7Xt67OtMIrXtu+FXKt+WeZS+DGlfaypE2iwj6n09ePZbFzVkCwsU2ZKfSzzwkLy2\n",
       "yyhb+MC3aFCAORzCoc+GjmH+vhlX/HPXtNNb4A28P+bXMesYe6r7R5GA1uZGTx8BSS4vxRW17//1\n",
       "37oGqzBnhjhvBjuyT5o71U4z0y9taJ9N5jyWwF/aWptzjEaAK+EAAACVQZpzSeEKUmUwIV/+OEAA\n",
       "ATTz+eUPK04mk2lE4BJHUgX9BExJCmOtTrDkzdXojCz1K1tAvH+jR/NtWStWlYLSmciwsUX/SP0E\n",
       "AZWo3pTC8C+SlS9IqS7uta52kzeLz8spfwm+/Vd41nNxt4FO496ypwvaZfCcwi9UYVIw3C/Vcge3\n",
       "HZSMbZOL3X3zprF643GlSVgAPaAAAACvQZqUSeEOiZTAhX/+OEAAATVRGiacA1KmW/PDNyiGYDCw\n",
       "zHOnfRMkyWHtiTVBt5hF91ovtne6HrQdyyzOHaK9Z0g+7H9FEdpFjW0b2vnSx8eGID4wSOIiwT2W\n",
       "s0k4SL9a9IyqEpfDBT0Ti9aVEHLPjvgutBlkHzOOQEhgbH2scI/r5eOgq4FN7oHaIcwDuX4ohTcW\n",
       "ug/l3Yjbew3UyK2/RY0WStXUhJSsY+mhMMAD5gAAAJtBmrVJ4Q8mUwIV//44QAAAPfjRigjo+nDc\n",
       "QQpKACEdQ+Yye1lC9I7t1aLApXn01I9yopvYj9aeJx8qZGL2ryO/kFfXHIMu8+IZZIoKMvvs9w5s\n",
       "dLeO59kT3upqhhGhBc6E0e1osDJdNrVKoAEe/1aepFp1khoABlfLtFZQxBltr81vcZJOz67jd73N\n",
       "2k3Z7+b66TFk5NyvFQAV8QAAAJ5BmtZJ4Q8mUwIV//44QAAAPlv/NFmXnL8I1RFne8wBsRFX2OQ6\n",
       "6/5JXrqB/JSQe4GXfM4DfaB2Y6xjT6ihychBvbIUGQbzojZyVZNNSkfPq1+DsXIqPVV4W0m7sJG0\n",
       "RWQ0DME/nicWYmucDwgABmAWJuGXsd3fx6d7/OTZOa1y7Ew7/z5Lbv8JePR5TJyo/sbSaHFi6xle\n",
       "0N+nfwAmYAAAAJBBmvdJ4Q8mUwIX//6MsAAAAwM9elRFf57mDWb22QAX14qlMVrl1u2Pf4tQzara\n",
       "MuzPDv8oCnHi9h/lZjLaudcSOq1tGmHOHZuCRwI9M60aYjsOTw4NMLnrWqvU60qNIoA20te/IRzW\n",
       "XCWE2JM+KLvxqfRQM8Ar8G4IzeUnN1BOBoD41tKotzlbgunh1JsADukAAACvQZsYSeEPJlMCF//+\n",
       "jLAAAAMB6f+rMThoV+C1iE7P6P0fXiifxr0p6ut3g0XUfTjIAWutKhU+k0h1B++yfoDTZBL1y0Fz\n",
       "jAfZr8XOgrOIfH+6CU9tVOcW2g+1o7q7ZnvpNbbtVRc7QbCQi97MmIb/k5zB3cHZBC8M/725jXB0\n",
       "2WWszhTW2ibwxIl/J66AtW3cgwmgdtOixv+/8WGFUfwTiWnq0unESktBdB5HgAAVMQAAAR9BmzxJ\n",
       "4Q8mUwIX//6MsAAAMZpPnhSGkAAWz1KFzWt7cn387UpwZ+ia66wFp2kSgVMq8jk4fmNcbvQiFIzt\n",
       "UTAuwRYwQVWWdMwRFZKaWF+XQtgUzpqkkgmEb11atKd9KgsbuejKFzn339afKgGYGQJ54zoEuKSz\n",
       "0C8dItVTj8jeA8BPVoOD4Y2dVjYYPyGaDPnLLRoVP7UCmeF0wWBiLSL7VXt4Rfv4kJOo8phC+/cs\n",
       "RYB7ZpR/SsvtQ/bktoJhP/353hGHdAIvAAIhFsR/2F6p4OdZ14oo0N8p6lDONixQ8egIkeBZciuV\n",
       "O0d6UJYZuyh0slwALhSmy1av0j87Vc4ABrVVGKOu44Bbd+PDbF1QCqLI2znUzvX6AO2/iAAGFAAA\n",
       "AMpBn1pFETwj/wAWd5TyIR/R4VHZmDrvJkvS9R5GIDDWZeMH2pD/OPhL3nr4AJUR+BQihrXtqpww\n",
       "OsX/946LD2AcE2sOhXDToc/OS+562g32phHerB1DZx4jZMa65c4qNendIGv6Cn3Rz8xV2wFK/Jko\n",
       "iLobDa9CFjEr+x3I9/86D8WobVHhCfsBG+WzFUugOAmoyOQi5Of3Gc8KMESUNAAFpUqXANZPODGc\n",
       "kgO5xzeU+4UwILIGmbO3MJI+/m3Miajc2AA5sId0AGzBAAAAUgGfeXRH/wAABPvL4mWWgxFf8x4p\n",
       "p6CACYXkY77fNkrOABV7RMIWKSy6NV//PqEQesQAABpLhZgAT4wyHrP29J7uhXMQmPQNUSuUnDaz\n",
       "VAAAyoAAAACRAZ97akf/AAAZKSpBNNzOsHCqaZActUwY6g7onTw/YLCYG7/sCyPbtwACdYNQsgVS\n",
       "cYmfRfSiYrGZGAt0E9z3Z/uWfXuUIq/lEQjY7xur4/7+AU8oeU37Il9abLR6u+b2iQT4kxyjBPwO\n",
       "UpdxQSCPW1qYjhnACI3/AAuHXLO1/DltiCeuWIwkp+y5xVNMlAAE7QAAASRBm2BJqEFomUwIT//9\n",
       "8QAAtnUAkoVsU9OlpfPUwfBlJx+Bhq4RmuQEOuSkS6IQh5qnE9Dxdg8tSyObuw30I9OE6t3eLYky\n",
       "UK/0WMka4vYill0owrvjQAsKu7TIQzysLAuuNCj1ieUGtXwQUKJmgCUQeiTY93zJqVQI3KvIaC9k\n",
       "C2Lser8ZzBirAOmw2YP6wz2g5r3JiLKeELdJoX5cmanxiKmtzhU//d204Yva0UY9yHnpkUKTTSdO\n",
       "NueDIeGkPQ0hAL2pb3AdM3rVfyLJkSq8PXRlAw0TX0zm8lkKATBRE+A+o7xwAd2+AyYAhm4Bz590\n",
       "K2c/nBbtAFCoqF6n/i299HZa3xkoL1mMjyrPZKK4itpvQwBYNgrzOLAyfRVB3Yu5UAg5AAAAtUGf\n",
       "nkURLCP/ABbAnvcH1WlkXXi+BASqdFyjTcq857ULOi3Yh352ONs5XJHrIlTZyuhWc8SqAScoT8tZ\n",
       "jKd4vOiRjK1TmO/Dvd48ocT/czUe1+zGMr8eQJtdYln1DvtNx8o/0U7mY3+mjBgjv6Xn8B+KNEvr\n",
       "zgvjY/Fctg1MMcfoaaIYY9ggF/D2goJ1sUQ/OUjSnr9J4R9pzrOm2OF+BoNOIdDr3NuQdKGxJGE2\n",
       "slAsKEcAMWAAAABvAZ+9dEf/AAB8a+KQfU+yK/0XWbp2zgGeuZ8DwgHqrKw6eC8hbj4AWtVwBKlr\n",
       "Yl+Y54MFeKgNVYAewgDn7F7+RhDy+eBTL2ICVHSnJwYtgwewA4escwAEz8vwb2641fyugQR9ZY9/\n",
       "UxVzw8C1gB8wAAAAnwGfv2pH/wACfZhIJpuZ1g4VJgmkgEnEUzndrHgC0W/enJjYueEAAe5N2Y54\n",
       "ugA2x88WV2w+uLuv3By9l1Z0UVND9dKvC2eyWAfom3a8RcIOKBBYk8H7WJMfj00ysCovs1lv3gOa\n",
       "A7g3zfQHp3f13k2HuiUuvs9/3sykCfXvsPz4L/vUn/7sC6sCukkVJApacJHvZ8sRy+XJ0jI9EAAi\n",
       "YQAAAQBBm6FJqEFsmUwIT//98QAAtmfX4Hy6t2h9mcyW4RRo16IYkNBvpqrbHGIF0m44Lt2zdJOO\n",
       "/r6PDzKfi8JyA1KK8ZDf8e3O9IgE9u9IATo6WS+avLcz/m/nmCAMR6Cf7+7AS+pWNATXrnExwrs1\n",
       "osCJqoijYGdsVrdnJKG4vPVjAvjXHUD6BxrYr+BpojZOtaTBWnlZN/lL/HG6MUuLHDjIuVwKO5XI\n",
       "EDC/SQnaA09VP6PuMsrvcTuq1Wfye6rLJH+nLt99btje4X3Yscq6ECUA9O9FrQLsWdp5MIWSEB8W\n",
       "FBgN0F9r6eYBYjXL770Ch1Om086qLprE7gb1rHrtgAfMAAABJEGbwknhClJlMCEf/eEAAXOTooAH\n",
       "G7xw3NKlfvlp7rtgFg+UWbtIvxVDXVNiVv/g7P/m3fxeX8lXwnMsudCrzmAnDZ0AI+7XU1D2yZz6\n",
       "TC1WseqDPvnmpzHl1f69Xfa/HL/2QR5Hkw9kJ0yQVbojPu7DVlpPsUKeAI1/2XHupGl3sEGiwf1a\n",
       "quo4sOX8F0qeztrcMelKwCiA72FrZcsgn+8eWQ1P3mJ6WDQQqPzei4iGcCr9tiHhApLSjy12HPZN\n",
       "/374IqrrCqPz4CxkN4hoOgUbXnxP8WvJUPdMtAXCgHg9exEEPkMmtGwlgf6daPe50EmOXJ7aOcAu\n",
       "/N6c58nJfrxXyV3cbvz9/9XPjJxihBuvFOTm2fh4mzQlbTs1A9ppoZawBI0AAAEQQZvjSeEOiZTA\n",
       "j//8hAAFq3C4rAQATC8u3/C8ineLG/Mzcs9BOZqLQWl26v8cNqJWSJ6c779qaHRYd38vysZtaBU3\n",
       "I+nGT7rI8qmObkzPyEFUTtd+xs3re4ncm0mKBIBfOzfoHxYgWEohuXjLhTp8ydUaRl2ED8f5AP6u\n",
       "x5GZG61MnwWX4JT15ds65YyBZQdHiPcn4Wd8/IgJBEjZTRAUKnsMe3xkdTmd6or48fR51BNS/4/X\n",
       "gt/WAKct+bIsLAhtNaWIqvjOdsSLevIUSjRUn8/vqAleMR4SORqdpCxJiPWOroxN2QE2XZwyPze3\n",
       "MvSp7eFOK1kU55t9ErYx8SwUUTQUrVrwfroJs6o7VI3SA2YAAAdIbW9vdgAAAGxtdmhkAAAAAAAA\n",
       "AAAAAAAAAAAD6AAAB9AAAQAAAQAAAAAAAAAAAAAAAAEAAAAAAAAAAAAAAAAAAAABAAAAAAAAAAAA\n",
       "AAAAAABAAAAAAAAAAAAAAAAAAAAAAAAAAAAAAAAAAAAAAAAAAgAABnJ0cmFrAAAAXHRraGQAAAAD\n",
       "AAAAAAAAAAAAAAABAAAAAAAAB9AAAAAAAAAAAAAAAAAAAAAAAAEAAAAAAAAAAAAAAAAAAAABAAAA\n",
       "AAAAAAAAAAAAAABAAAAAA+gAAAH0AAAAAAAkZWR0cwAAABxlbHN0AAAAAAAAAAEAAAfQAAACAAAB\n",
       "AAAAAAXqbWRpYQAAACBtZGhkAAAAAAAAAAAAAAAAAAAyAAAAZABVxAAAAAAALWhkbHIAAAAAAAAA\n",
       "AHZpZGUAAAAAAAAAAAAAAABWaWRlb0hhbmRsZXIAAAAFlW1pbmYAAAAUdm1oZAAAAAEAAAAAAAAA\n",
       "AAAAACRkaW5mAAAAHGRyZWYAAAAAAAAAAQAAAAx1cmwgAAAAAQAABVVzdGJsAAAAtXN0c2QAAAAA\n",
       "AAAAAQAAAKVhdmMxAAAAAAAAAAEAAAAAAAAAAAAAAAAAAAAAA+gB9ABIAAAASAAAAAAAAAABAAAA\n",
       "AAAAAAAAAAAAAAAAAAAAAAAAAAAAAAAAAAAAAAAAGP//AAAAM2F2Y0MBZAAf/+EAGmdkAB+s2UD8\n",
       "EHlnhAAAAwAEAAADAZA8YMZYAQAGaOvjyyLAAAAAHHV1aWRraEDyXyRPxbo5pRvPAyPzAAAAAAAA\n",
       "ABhzdHRzAAAAAAAAAAEAAABkAAABAAAAABRzdHNzAAAAAAAAAAEAAAABAAACmGN0dHMAAAAAAAAA\n",
       "UQAAAAMAAAIAAAAAAQAABQAAAAABAAACAAAAAAEAAAAAAAAAAQAAAQAAAAABAAAFAAAAAAEAAAIA\n",
       "AAAAAQAAAAAAAAABAAABAAAAAAEAAAUAAAAAAQAAAgAAAAABAAAAAAAAAAEAAAEAAAAAAQAAAgAA\n",
       "AAABAAAFAAAAAAEAAAIAAAAAAQAAAAAAAAABAAABAAAAAAEAAAUAAAAAAQAAAgAAAAABAAAAAAAA\n",
       "AAEAAAEAAAAAAQAABQAAAAABAAACAAAAAAEAAAAAAAAAAQAAAQAAAAABAAAFAAAAAAEAAAIAAAAA\n",
       "AQAAAAAAAAABAAABAAAAAAcAAAIAAAAAAQAABQAAAAABAAACAAAAAAEAAAAAAAAAAQAAAQAAAAAB\n",
       "AAAFAAAAAAEAAAIAAAAAAQAAAAAAAAABAAABAAAAAAEAAAUAAAAAAQAAAgAAAAABAAAAAAAAAAEA\n",
       "AAEAAAAAAgAAAgAAAAABAAAFAAAAAAEAAAIAAAAAAQAAAAAAAAABAAABAAAAAAMAAAIAAAAAAQAA\n",
       "BQAAAAABAAACAAAAAAEAAAAAAAAAAQAAAQAAAAABAAACAAAAAAEAAAUAAAAAAQAAAgAAAAABAAAA\n",
       "AAAAAAEAAAEAAAAAAQAABQAAAAABAAACAAAAAAEAAAAAAAAAAQAAAQAAAAABAAACAAAAAAEAAAUA\n",
       "AAAAAQAAAgAAAAABAAAAAAAAAAEAAAEAAAAAAQAABQAAAAABAAACAAAAAAEAAAAAAAAAAQAAAQAA\n",
       "AAAHAAACAAAAAAEAAAUAAAAAAQAAAgAAAAABAAAAAAAAAAEAAAEAAAAAAQAABQAAAAABAAACAAAA\n",
       "AAEAAAAAAAAAAQAAAQAAAAADAAACAAAAABxzdHNjAAAAAAAAAAEAAAABAAAAZAAAAAEAAAGkc3Rz\n",
       "egAAAAAAAAAAAAAAZAAALqoAAAKAAAABvwAAAfsAAADJAAAAvQAAAK4AAAFCAAAAxwAAAGYAAABk\n",
       "AAABbwAAAJ0AAABsAAAAZgAAAMkAAAEiAAAAgAAAAFsAAABnAAABbQAAAIoAAAB3AAAAjQAAAU8A\n",
       "AACbAAAAiAAAAHgAAAFLAAAAkwAAAIIAAADXAAAAnAAAAJgAAADHAAAAuAAAALoAAACYAAAAwwAA\n",
       "AVkAAADYAAAAegAAAGkAAAE2AAAAtQAAAMUAAAC0AAABswAAAQsAAADbAAAAQgAAAFcAAAFiAAAB\n",
       "owAAAMoAAADBAAAArAAAATEAAACqAAAAqwAAAUwAAADIAAAAXgAAAFgAAACrAAABEAAAAKQAAABq\n",
       "AAAAcQAAAVsAAACGAAAAoAAAAH4AAADIAAABKQAAAKsAAABmAAAAjgAAAQUAAACcAAAAegAAAIMA\n",
       "AAC7AAAAmQAAALMAAACfAAAAogAAAJQAAACzAAABIwAAAM4AAABWAAAAlQAAASgAAAC5AAAAcwAA\n",
       "AKMAAAEEAAABKAAAARQAAAAUc3RjbwAAAAAAAAABAAAALAAAAGJ1ZHRhAAAAWm1ldGEAAAAAAAAA\n",
       "IWhkbHIAAAAAAAAAAG1kaXJhcHBsAAAAAAAAAAAAAAAALWlsc3QAAAAlqXRvbwAAAB1kYXRhAAAA\n",
       "AQAAAABMYXZmNTYuNDAuMTAx\n",
       "\">\n",
       "  Your browser does not support the video tag.\n",
       "</video>"
      ],
      "text/plain": [
       "<IPython.core.display.HTML object>"
      ]
     },
     "execution_count": 10,
     "metadata": {},
     "output_type": "execute_result"
    }
   ],
   "source": [
    "from matplotlib import animation\n",
    "\n",
    "anim = animation.FuncAnimation(fig, drawEntropy_bernoulli, frames=np.hstack([np.linspace(0.01, 0.99, 50),np.linspace(0.99, 0.01, 50)]), interval=20, blit=True)\n",
    "display.HTML(anim.to_html5_video())"
   ]
  },
  {
   "cell_type": "markdown",
   "metadata": {
    "deletable": true,
    "editable": true,
    "slideshow": {
     "slide_type": "slide"
    }
   },
   "source": [
    "## Generating slides from a jupyter notebook\n",
    "\n",
    "\n",
    "### HTML slides are generated from the console as follows:\n",
    "```bash\n",
    "jupyter nbconvert --to slides --post serve \"Regular Notebook.ipynb\"\n",
    "```\n",
    "\n",
    "\n",
    "### Similarly, PDF slides are generated as follows:\n",
    "```bash\n",
    "jupyter nbconvert --to pdf \"Regular Notebook.ipynb\"\n",
    "```"
   ]
  },
  {
   "cell_type": "markdown",
   "metadata": {
    "deletable": true,
    "editable": true,
    "slideshow": {
     "slide_type": "slide"
    }
   },
   "source": [
    "## Live slideshows possible\n",
    "\n",
    "For live slideshows that behave just like full fledged notebooks, use the jupyter [RISE](https://github.com/damianavila/RISE) extension. \n",
    "\n",
    "This gives the whole thing a PowerPoint-ish flavor."
   ]
  }
 ],
 "metadata": {
  "celltoolbar": "Slideshow",
  "kernelspec": {
   "display_name": "Python 3",
   "language": "python",
   "name": "python3"
  },
  "language_info": {
   "codemirror_mode": {
    "name": "ipython",
    "version": 3
   },
   "file_extension": ".py",
   "mimetype": "text/x-python",
   "name": "python",
   "nbconvert_exporter": "python",
   "pygments_lexer": "ipython3",
   "version": "3.5.2"
  }
 },
 "nbformat": 4,
 "nbformat_minor": 2
}
